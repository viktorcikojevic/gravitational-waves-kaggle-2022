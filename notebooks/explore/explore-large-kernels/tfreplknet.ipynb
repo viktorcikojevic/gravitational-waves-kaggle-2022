{
 "cells": [
  {
   "cell_type": "code",
   "execution_count": 18,
   "metadata": {},
   "outputs": [
    {
     "name": "stdout",
     "output_type": "stream",
     "text": [
      "Model: \"model_1\"\n",
      "_________________________________________________________________\n",
      " Layer (type)                Output Shape              Param #   \n",
      "=================================================================\n",
      " input_8 (InputLayer)        [(None, 224, 224, 3)]     0         \n",
      "                                                                 \n",
      " lambda_4 (Lambda)           (None, 224, 224, 3)       0         \n",
      "                                                                 \n",
      " replknet_b_224_in1k (Functi  (None, None, None, 1024)  79114112 \n",
      " onal)                                                           \n",
      "                                                                 \n",
      " dense_1 (Dense)             (None, 7, 7, 1)           1025      \n",
      "                                                                 \n",
      "=================================================================\n",
      "Total params: 79,115,137\n",
      "Trainable params: 78,840,193\n",
      "Non-trainable params: 274,944\n",
      "_________________________________________________________________\n"
     ]
    }
   ],
   "source": [
    "from keras import layers, models\n",
    "from tfreplknet import RepLKNetB224In1k, preprocess_input_bl\n",
    "\n",
    "inputs = layers.Input(shape=(224, 224, 3), dtype='uint8')\n",
    "outputs = layers.Lambda(preprocess_input_bl)(inputs)\n",
    "outputs = RepLKNetB224In1k(include_top=False)(outputs)\n",
    "outputs = layers.Dense(1, activation='sigmoid')(outputs)\n",
    "model = models.Model(inputs, outputs)\n",
    "\n",
    "model.summary()"
   ]
  },
  {
   "cell_type": "code",
   "execution_count": null,
   "metadata": {},
   "outputs": [],
   "source": [
    "# I have an input of shape (360, 256, 2)"
   ]
  },
  {
   "cell_type": "code",
   "execution_count": 19,
   "metadata": {},
   "outputs": [],
   "source": [
    "# For each BatchNormalization layer in model.layers[-2].layers, set the momentum to 0.999\n",
    "for layer in model.layers[-2].layers:\n",
    "    if isinstance(layer, layers.BatchNormalization):\n",
    "        layer.momentum = 0.999"
   ]
  },
  {
   "cell_type": "code",
   "execution_count": 47,
   "metadata": {},
   "outputs": [
    {
     "data": {
      "text/plain": [
       "(array([4., 7., 5., 3., 2., 6., 3., 9., 5., 5.]),\n",
       " array([3.3668001e-04, 8.4048055e-02, 1.6775943e-01, 2.5147080e-01,\n",
       "        3.3518219e-01, 4.1889358e-01, 5.0260496e-01, 5.8631629e-01,\n",
       "        6.7002767e-01, 7.5373906e-01, 8.3745044e-01], dtype=float32),\n",
       " <BarContainer object of 10 artists>)"
      ]
     },
     "execution_count": 47,
     "metadata": {},
     "output_type": "execute_result"
    },
    {
     "data": {
      "image/png": "[encoded data removed]",
      "text/plain": [
       "<Figure size 640x480 with 1 Axes>"
      ]
     },
     "metadata": {},
     "output_type": "display_data"
    }
   ],
   "source": [
    "import tensorflow as tf\n",
    "# GEnerate random number between 0 and 255 for each pixel in (1, 360, 360, 2)\n",
    "x = tf.random.uniform((1, 224, 224, 3), minval=0, maxval=20055, dtype=tf.dtypes.int32)\n",
    "y = model(x).numpy().flatten()\n",
    "import matplotlib.pyplot as plt\n",
    "plt.hist(y)\n"
   ]
  },
  {
   "cell_type": "code",
   "execution_count": null,
   "metadata": {},
   "outputs": [],
   "source": []
  }
 ],
 "metadata": {
  "kernelspec": {
   "display_name": "Python 3.10.6 ('mlp')",
   "language": "python",
   "name": "python3"
  },
  "language_info": {
   "codemirror_mode": {
    "name": "ipython",
    "version": 3
   },
   "file_extension": ".py",
   "mimetype": "text/x-python",
   "name": "python",
   "nbconvert_exporter": "python",
   "pygments_lexer": "ipython3",
   "version": "3.10.6"
  },
  "orig_nbformat": 4,
  "vscode": {
   "interpreter": {
    "hash": "02e568930d87ca2b8b9cf5a6033d5857823a62aae5a168045c9638053701f372"
   }
  }
 },
 "nbformat": 4,
 "nbformat_minor": 2
}
