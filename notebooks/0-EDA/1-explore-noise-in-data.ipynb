{
 "cells": [
  {
   "cell_type": "code",
   "execution_count": 17,
   "metadata": {},
   "outputs": [],
   "source": [
    "import numpy as np\n",
    "import tensorflow as tf\n",
    "import glob \n",
    "import pandas as pd\n",
    "import h5py # import to read hdf5\n",
    "from pathlib import Path\n",
    "from tqdm import tqdm\n",
    "# Load train_test_split from sklearn\n",
    "from sklearn.model_selection import train_test_split\n",
    "import random\n",
    "import matplotlib.pyplot as plt"
   ]
  },
  {
   "cell_type": "code",
   "execution_count": 10,
   "metadata": {},
   "outputs": [],
   "source": [
    "# root = \"/Volumes/T7/gravitational-waves/kaggle-data\"\n",
    "root = \"/media/viktor/T7/gravitational-waves\"\n",
    "\n",
    "def load_df(train=True):\n",
    "    \n",
    "    if train:\n",
    "        # Load /Users/viktorcikojevic/Documents/gravitational-waves-detection-kaggle/train_labels.csv as pandas dataframe\n",
    "        df = pd.read_csv(f'{root}/kaggle-data/train_labels.csv')\n",
    "        root_folder = f\"{root}/kaggle-data/train\"\n",
    "        # Rename the column 'id' to 'filename'. Add \"root_folder\" to the beginning of the filename\n",
    "        df['filename'] = root_folder + \"/\" + df['id'].astype(str) + \".hdf5\"\n",
    "\n",
    "    else:\n",
    "        df = pd.DataFrame({'filename': glob.glob(f'{root}/kaggle-data/test/*.hdf5')})\n",
    "    return df"
   ]
  },
  {
   "cell_type": "code",
   "execution_count": 11,
   "metadata": {},
   "outputs": [
    {
     "data": {
      "text/html": [
       "<div>\n",
       "<style scoped>\n",
       "    .dataframe tbody tr th:only-of-type {\n",
       "        vertical-align: middle;\n",
       "    }\n",
       "\n",
       "    .dataframe tbody tr th {\n",
       "        vertical-align: top;\n",
       "    }\n",
       "\n",
       "    .dataframe thead th {\n",
       "        text-align: right;\n",
       "    }\n",
       "</style>\n",
       "<table border=\"1\" class=\"dataframe\">\n",
       "  <thead>\n",
       "    <tr style=\"text-align: right;\">\n",
       "      <th></th>\n",
       "      <th>id</th>\n",
       "      <th>target</th>\n",
       "      <th>filename</th>\n",
       "    </tr>\n",
       "  </thead>\n",
       "  <tbody>\n",
       "    <tr>\n",
       "      <th>0</th>\n",
       "      <td>001121a05</td>\n",
       "      <td>1</td>\n",
       "      <td>/media/viktor/T7/gravitational-waves/kaggle-da...</td>\n",
       "    </tr>\n",
       "    <tr>\n",
       "      <th>1</th>\n",
       "      <td>004f23b2d</td>\n",
       "      <td>1</td>\n",
       "      <td>/media/viktor/T7/gravitational-waves/kaggle-da...</td>\n",
       "    </tr>\n",
       "    <tr>\n",
       "      <th>2</th>\n",
       "      <td>00a6db666</td>\n",
       "      <td>1</td>\n",
       "      <td>/media/viktor/T7/gravitational-waves/kaggle-da...</td>\n",
       "    </tr>\n",
       "    <tr>\n",
       "      <th>3</th>\n",
       "      <td>00f36a6ac</td>\n",
       "      <td>1</td>\n",
       "      <td>/media/viktor/T7/gravitational-waves/kaggle-da...</td>\n",
       "    </tr>\n",
       "    <tr>\n",
       "      <th>4</th>\n",
       "      <td>010a387db</td>\n",
       "      <td>1</td>\n",
       "      <td>/media/viktor/T7/gravitational-waves/kaggle-da...</td>\n",
       "    </tr>\n",
       "  </tbody>\n",
       "</table>\n",
       "</div>"
      ],
      "text/plain": [
       "          id  target                                           filename\n",
       "0  001121a05       1  /media/viktor/T7/gravitational-waves/kaggle-da...\n",
       "1  004f23b2d       1  /media/viktor/T7/gravitational-waves/kaggle-da...\n",
       "2  00a6db666       1  /media/viktor/T7/gravitational-waves/kaggle-da...\n",
       "3  00f36a6ac       1  /media/viktor/T7/gravitational-waves/kaggle-da...\n",
       "4  010a387db       1  /media/viktor/T7/gravitational-waves/kaggle-da..."
      ]
     },
     "execution_count": 11,
     "metadata": {},
     "output_type": "execute_result"
    }
   ],
   "source": [
    "df = load_df(train=True)\n",
    "df.head(5)"
   ]
  },
  {
   "cell_type": "code",
   "execution_count": 12,
   "metadata": {},
   "outputs": [],
   "source": [
    "\n",
    "# Each vector x has shape (4, 360, N). If N is not a multiple of 360, then we need to pad the vector with random noise with mu=np.average(x) and sigma=np.std(x)\n",
    "def pad_amplitudes(x1, x2):\n",
    "    # Get the shape of the vectors\n",
    "    shape1 = x1.shape\n",
    "    shape2 = x2.shape\n",
    "    # Get the number of elements in each vector\n",
    "    n1 = shape1[1]\n",
    "    n2 = shape2[1]\n",
    "    # Get the number of elements to pad\n",
    "    n_pad = abs(n1 - n2)\n",
    "    # Get the average and std of each vector\n",
    "    mu1 = np.average(x1)\n",
    "    mu2 = np.average(x2)\n",
    "    sigma1 = np.std(x1)\n",
    "    sigma2 = np.std(x2)\n",
    "    # Get the padding vector\n",
    "    pad1 = np.random.normal(mu1, sigma1, (360, n_pad))\n",
    "    pad2 = np.random.normal(mu2, sigma2, (360, n_pad))\n",
    "    # Pad the shorter vector\n",
    "    if n1 > n2:\n",
    "        x2 = np.concatenate((x2, pad2), axis=1)\n",
    "    else:\n",
    "        x1 = np.concatenate((x1, pad1), axis=1)\n",
    "    return x1, x2\n",
    "\n",
    "\n",
    "\n",
    "def combine_amplitudes(amplitude_0, amplitude_1):\n",
    "    \n",
    "    amplitude_0, amplitude_1 = pad_amplitudes(amplitude_0, amplitude_1)\n",
    "    # Get the real part of the amplitudes\n",
    "    real_0 = amplitude_0.real\n",
    "    real_1 = amplitude_1.real\n",
    "    # Get the imaginary part of the amplitudes\n",
    "    imag_0 = amplitude_0.imag\n",
    "    imag_1 = amplitude_1.imag\n",
    "    # normalize the amplitudes to be between 0 and 1\n",
    "    real_0 = (real_0 - real_0.min()) / (real_0.max() - real_0.min())\n",
    "    real_1 = (real_1 - real_1.min()) / (real_1.max() - real_1.min())\n",
    "    imag_0 = (imag_0 - imag_0.min()) / (imag_0.max() - imag_0.min())\n",
    "    imag_1 = (imag_1 - imag_1.min()) / (imag_1.max() - imag_1.min())\n",
    "    # Expand the dims of the real and imaginary parts\n",
    "    real_0 = np.expand_dims(real_0, axis=0)\n",
    "    real_1 = np.expand_dims(real_1, axis=0)\n",
    "    imag_0 = np.expand_dims(imag_0, axis=0)\n",
    "    imag_1 = np.expand_dims(imag_1, axis=0)\n",
    "    # Make a vstack of the amplitudes\n",
    "    amplitudes = np.vstack((real_0, imag_0, real_1, imag_1))\n",
    "    return amplitudes\n",
    "\n",
    "\n",
    "\n",
    "# Idea from this function takes from this notebook (😇): https://www.kaggle.com/code/ayuraj/g2net-understand-the-data\n",
    "def preprocess(file):\n",
    "    file = Path(file)\n",
    "    with h5py.File(file, \"r\") as f:\n",
    "        filename = file.stem\n",
    "        f = f[filename]\n",
    "        h1 = f[\"H1\"]\n",
    "        l1 = f[\"L1\"]\n",
    "        freq_hz = list(f[\"frequency_Hz\"])\n",
    "        \n",
    "        h1_stft = h1[\"SFTs\"][()]\n",
    "        h1_timestamp = h1[\"timestamps_GPS\"][()]\n",
    "        # H2 data\n",
    "        l1_stft = l1[\"SFTs\"][()]\n",
    "        l1_timestamp = l1[\"timestamps_GPS\"][()]\n",
    "        \n",
    "        return combine_amplitudes(h1_stft, l1_stft)"
   ]
  },
  {
   "cell_type": "code",
   "execution_count": 20,
   "metadata": {},
   "outputs": [
    {
     "name": "stderr",
     "output_type": "stream",
     "text": [
      "  0%|          | 0/603 [00:00<?, ?it/s]/tmp/ipykernel_150907/1080001032.py:17: ComplexWarning: Casting complex values to real discards the imaginary part\n",
      "  pad1 = np.random.normal(mu1, sigma1, (360, n_pad))\n",
      "/tmp/ipykernel_150907/1080001032.py:18: ComplexWarning: Casting complex values to real discards the imaginary part\n",
      "  pad2 = np.random.normal(mu2, sigma2, (360, n_pad))\n",
      "100%|██████████| 603/603 [01:38<00:00,  6.15it/s]\n"
     ]
    }
   ],
   "source": [
    "avg = []\n",
    "stddev = []\n",
    "for file in tqdm(df['filename']):\n",
    "    x = preprocess(file).flatten()\n",
    "    avg.append(np.average(x))\n",
    "    stddev.append(np.std(x))    "
   ]
  },
  {
   "cell_type": "code",
   "execution_count": 23,
   "metadata": {},
   "outputs": [
    {
     "data": {
      "text/plain": [
       "(0.09, 0.11)"
      ]
     },
     "execution_count": 23,
     "metadata": {},
     "output_type": "execute_result"
    },
    {
     "data": {
      "image/png": "[encoded data removed]",
      "text/plain": [
       "<Figure size 640x480 with 1 Axes>"
      ]
     },
     "metadata": {},
     "output_type": "display_data"
    }
   ],
   "source": [
    "# Plot histogram of stddev\n",
    "_ = plt.hist(stddev, bins=100)\n",
    "plt.xlim(0.09, 0.11)"
   ]
  },
  {
   "cell_type": "code",
   "execution_count": null,
   "metadata": {},
   "outputs": [],
   "source": []
  }
 ],
 "metadata": {
  "kernelspec": {
   "display_name": "Python 3.10.6 64-bit",
   "language": "python",
   "name": "python3"
  },
  "language_info": {
   "codemirror_mode": {
    "name": "ipython",
    "version": 3
   },
   "file_extension": ".py",
   "mimetype": "text/x-python",
   "name": "python",
   "nbconvert_exporter": "python",
   "pygments_lexer": "ipython3",
   "version": "3.10.6"
  },
  "orig_nbformat": 4,
  "vscode": {
   "interpreter": {
    "hash": "02e568930d87ca2b8b9cf5a6033d5857823a62aae5a168045c9638053701f372"
   }
  }
 },
 "nbformat": 4,
 "nbformat_minor": 2
}
