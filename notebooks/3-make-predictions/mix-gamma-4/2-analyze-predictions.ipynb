{
 "cells": [
  {
   "cell_type": "code",
   "execution_count": 5,
   "metadata": {},
   "outputs": [],
   "source": [
    "import numpy as np\n",
    "import tensorflow as tf\n",
    "import glob \n",
    "import pandas as pd\n",
    "import h5py # import to read hdf5\n",
    "from pathlib import Path\n",
    "from tqdm import tqdm\n",
    "import matplotlib.pyplot as plt"
   ]
  },
  {
   "cell_type": "code",
   "execution_count": 6,
   "metadata": {},
   "outputs": [
    {
     "data": {
      "text/html": [
       "<div>\n",
       "<style scoped>\n",
       "    .dataframe tbody tr th:only-of-type {\n",
       "        vertical-align: middle;\n",
       "    }\n",
       "\n",
       "    .dataframe tbody tr th {\n",
       "        vertical-align: top;\n",
       "    }\n",
       "\n",
       "    .dataframe thead th {\n",
       "        text-align: right;\n",
       "    }\n",
       "</style>\n",
       "<table border=\"1\" class=\"dataframe\">\n",
       "  <thead>\n",
       "    <tr style=\"text-align: right;\">\n",
       "      <th></th>\n",
       "      <th>id</th>\n",
       "      <th>target</th>\n",
       "      <th>filename</th>\n",
       "      <th>h0=0.1_avg</th>\n",
       "      <th>h0=0.1_std</th>\n",
       "      <th>h0=0.1_min</th>\n",
       "      <th>h0=0.1_max</th>\n",
       "      <th>h0=0.1_median</th>\n",
       "      <th>h0=0.1_n</th>\n",
       "      <th>h0=0.1_m</th>\n",
       "    </tr>\n",
       "  </thead>\n",
       "  <tbody>\n",
       "    <tr>\n",
       "      <th>0</th>\n",
       "      <td>001121a05</td>\n",
       "      <td>1</td>\n",
       "      <td>/media/viktor/T7/gravitational-waves/kaggle-da...</td>\n",
       "      <td>0.796828</td>\n",
       "      <td>0.020959</td>\n",
       "      <td>0.761375</td>\n",
       "      <td>0.839509</td>\n",
       "      <td>0.793931</td>\n",
       "      <td>12</td>\n",
       "      <td>0</td>\n",
       "    </tr>\n",
       "    <tr>\n",
       "      <th>1</th>\n",
       "      <td>004f23b2d</td>\n",
       "      <td>1</td>\n",
       "      <td>/media/viktor/T7/gravitational-waves/kaggle-da...</td>\n",
       "      <td>0.788865</td>\n",
       "      <td>0.043583</td>\n",
       "      <td>0.701806</td>\n",
       "      <td>0.865544</td>\n",
       "      <td>0.794145</td>\n",
       "      <td>12</td>\n",
       "      <td>0</td>\n",
       "    </tr>\n",
       "    <tr>\n",
       "      <th>2</th>\n",
       "      <td>00a6db666</td>\n",
       "      <td>1</td>\n",
       "      <td>/media/viktor/T7/gravitational-waves/kaggle-da...</td>\n",
       "      <td>0.777153</td>\n",
       "      <td>0.032632</td>\n",
       "      <td>0.700435</td>\n",
       "      <td>0.810034</td>\n",
       "      <td>0.792241</td>\n",
       "      <td>12</td>\n",
       "      <td>0</td>\n",
       "    </tr>\n",
       "    <tr>\n",
       "      <th>3</th>\n",
       "      <td>00f36a6ac</td>\n",
       "      <td>1</td>\n",
       "      <td>/media/viktor/T7/gravitational-waves/kaggle-da...</td>\n",
       "      <td>0.781706</td>\n",
       "      <td>0.043361</td>\n",
       "      <td>0.667296</td>\n",
       "      <td>0.830239</td>\n",
       "      <td>0.792078</td>\n",
       "      <td>12</td>\n",
       "      <td>0</td>\n",
       "    </tr>\n",
       "    <tr>\n",
       "      <th>4</th>\n",
       "      <td>010a387db</td>\n",
       "      <td>1</td>\n",
       "      <td>/media/viktor/T7/gravitational-waves/kaggle-da...</td>\n",
       "      <td>0.770495</td>\n",
       "      <td>0.057242</td>\n",
       "      <td>0.651174</td>\n",
       "      <td>0.832822</td>\n",
       "      <td>0.800498</td>\n",
       "      <td>12</td>\n",
       "      <td>0</td>\n",
       "    </tr>\n",
       "  </tbody>\n",
       "</table>\n",
       "</div>"
      ],
      "text/plain": [
       "          id  target                                           filename  \\\n",
       "0  001121a05       1  /media/viktor/T7/gravitational-waves/kaggle-da...   \n",
       "1  004f23b2d       1  /media/viktor/T7/gravitational-waves/kaggle-da...   \n",
       "2  00a6db666       1  /media/viktor/T7/gravitational-waves/kaggle-da...   \n",
       "3  00f36a6ac       1  /media/viktor/T7/gravitational-waves/kaggle-da...   \n",
       "4  010a387db       1  /media/viktor/T7/gravitational-waves/kaggle-da...   \n",
       "\n",
       "   h0=0.1_avg  h0=0.1_std  h0=0.1_min  h0=0.1_max  h0=0.1_median  h0=0.1_n  \\\n",
       "0    0.796828    0.020959    0.761375    0.839509       0.793931        12   \n",
       "1    0.788865    0.043583    0.701806    0.865544       0.794145        12   \n",
       "2    0.777153    0.032632    0.700435    0.810034       0.792241        12   \n",
       "3    0.781706    0.043361    0.667296    0.830239       0.792078        12   \n",
       "4    0.770495    0.057242    0.651174    0.832822       0.800498        12   \n",
       "\n",
       "   h0=0.1_m  \n",
       "0         0  \n",
       "1         0  \n",
       "2         0  \n",
       "3         0  \n",
       "4         0  "
      ]
     },
     "execution_count": 6,
     "metadata": {},
     "output_type": "execute_result"
    }
   ],
   "source": [
    "folder = \"predictions/train\"\n",
    "file_paths = glob.glob(folder + \"/*.csv\")\n",
    "# Load the files to dataframe\n",
    "df = pd.concat([pd.read_csv(f) for f in file_paths], ignore_index=True)\n",
    "df.head(5)"
   ]
  },
  {
   "cell_type": "code",
   "execution_count": 8,
   "metadata": {},
   "outputs": [
    {
     "data": {
      "text/plain": [
       "<matplotlib.legend.Legend at 0x7fd9465a2dd0>"
      ]
     },
     "execution_count": 8,
     "metadata": {},
     "output_type": "execute_result"
    },
    {
     "data": {
      "image/png": "[encoded data removed]",
      "text/plain": [
       "<Figure size 640x480 with 1 Axes>"
      ]
     },
     "metadata": {},
     "output_type": "display_data"
    }
   ],
   "source": [
    "# Plot the distribution of the mix-gamma-4_avg for a given target. Target is the 'target' column.   \n",
    "df[df['target'] == 0]['h0=0.1_avg'].plot.hist(bins=10, alpha=0.5,density=False, label=\"0\")\n",
    "df[df['target'] == 1]['h0=0.1_avg'].plot.hist(bins=10, alpha=0.5,density=False, label=\"1\")\n",
    "plt.legend(loc=\"best\")"
   ]
  },
  {
   "cell_type": "code",
   "execution_count": null,
   "metadata": {},
   "outputs": [],
   "source": []
  }
 ],
 "metadata": {
  "environment": {
   "kernel": "python3",
   "name": "common-cpu.m97",
   "type": "gcloud",
   "uri": "gcr.io/deeplearning-platform-release/base-cpu:m97"
  },
  "kernelspec": {
   "display_name": "Python 3.10.6 64-bit",
   "language": "python",
   "name": "python3"
  },
  "language_info": {
   "codemirror_mode": {
    "name": "ipython",
    "version": 3
   },
   "file_extension": ".py",
   "mimetype": "text/x-python",
   "name": "python",
   "nbconvert_exporter": "python",
   "pygments_lexer": "ipython3",
   "version": "3.10.6"
  },
  "vscode": {
   "interpreter": {
    "hash": "02e568930d87ca2b8b9cf5a6033d5857823a62aae5a168045c9638053701f372"
   }
  }
 },
 "nbformat": 4,
 "nbformat_minor": 4
}
