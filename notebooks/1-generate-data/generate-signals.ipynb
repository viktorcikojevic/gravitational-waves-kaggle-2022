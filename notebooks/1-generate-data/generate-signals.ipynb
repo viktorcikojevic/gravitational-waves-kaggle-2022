{
 "cells": [
  {
   "cell_type": "markdown",
   "id": "1d484082-b01b-45b2-9d5b-f471f0823532",
   "metadata": {},
   "source": [
    "\n",
    "- About the parameters\n",
    "Two parameters for the location on the sky: Alpha, Delta\n",
    "Three parameters for the orientation of the source: cosi, psi, phi\n",
    "One parameter that describes the \"strength\" of the signal: h0\n",
    "Two intrinsic parameters: frequency and spin-down: F0, F1\n",
    "\n",
    "-  FFTs\n",
    "Hi.Is there a fixed window length for fourier transform？\n",
    "\n",
    "For this kind of signal the recommended lenght is 1800seconds (30 mins). There might be gaps in the timestamp but the considered length is 1800 seconds. Rodrigo can confirm better. :)\n",
    "\n",
    "Yes, each timestamp labels a period of time of 1800s (you can check that by noting the frequency resolution of 1/1800 Hz), but timestamps need not to be consecutive (i.e. there may be times at which no data is collected).\n",
    "\n",
    "- About targets \n",
    "\n",
    "Hey Rodrigo Tenorio, thank you for providing resources for generating more data. I am unclear about the \"target\" part while generating the data. The kenrel provided to generate the data does not seem to the information about the label (target 1, 0, or -1). Or am I missing something? Thanks in advance.\n",
    "\n",
    "0/1 labels refer to whether we included a simulated signal to that sample (1) or if it consists only on noise.\n",
    "In terms of the quantities of the kernel your refer to, a label of 1 would correspond to a signal with an amplitude h0 greater than 0 (i. e. there's a signal), while a label of 0 would correspond to not having a signal (i.e. amplitude h0 = 0).\n",
    "The same definition can be made in terms of SNR: Label of 1 corresponds to SNR > 0, label 0 corresponds to SNR = 0 (no signal added at all)."
   ]
  },
  {
   "cell_type": "code",
   "execution_count": 22,
   "id": "f62ea7ac-4c92-4798-90c4-d6540dcb028f",
   "metadata": {},
   "outputs": [],
   "source": [
    "import os\n",
    "import sys\n",
    "\n",
    "import numpy as np\n",
    "import matplotlib.pyplot as plt\n",
    "\n",
    "import pyfstat\n",
    "\n",
    "from scipy import stats\n",
    "from tqdm import tqdm"
   ]
  },
  {
   "cell_type": "code",
   "execution_count": 23,
   "id": "70036da9-e01a-4ccb-930a-ee285eb2b44c",
   "metadata": {},
   "outputs": [],
   "source": [
    "\n",
    "def combine_amplitudes(amplitude_0, amplitude_1):\n",
    "    # Get the real part of the amplitudes\n",
    "    real_0 = amplitude_0.real\n",
    "    real_1 = amplitude_1.real\n",
    "    # Get the imaginary part of the amplitudes\n",
    "    imag_0 = amplitude_0.imag\n",
    "    imag_1 = amplitude_1.imag\n",
    "    # normalize the amplitudes to be between 0 and 1\n",
    "    real_0 = (real_0 - real_0.min()) / (real_0.max() - real_0.min())\n",
    "    real_1 = (real_1 - real_1.min()) / (real_1.max() - real_1.min())\n",
    "    imag_0 = (imag_0 - imag_0.min()) / (imag_0.max() - imag_0.min())\n",
    "    imag_1 = (imag_1 - imag_1.min()) / (imag_1.max() - imag_1.min())\n",
    "    # Expand the dims of the real and imaginary parts\n",
    "    real_0 = np.expand_dims(real_0, axis=0)\n",
    "    real_1 = np.expand_dims(real_1, axis=0)\n",
    "    imag_0 = np.expand_dims(imag_0, axis=0)\n",
    "    imag_1 = np.expand_dims(imag_1, axis=0)\n",
    "    # Make a vstack of the amplitudes\n",
    "    amplitudes = np.vstack((real_0, imag_0, real_1, imag_1))\n",
    "    return amplitudes\n",
    "    "
   ]
  },
  {
   "cell_type": "code",
   "execution_count": 24,
   "id": "0f58d7b5-289e-464c-b08f-90acaf726d45",
   "metadata": {},
   "outputs": [],
   "source": [
    "ROOT = os.path.abspath(os.path.join(os.getcwd(), \"../..\"))\n",
    "def _generate_signals(num_signals, tfrac, prior_index, duration, sqrtSX, signal_rate):\n",
    "    tmin = 1238166018\n",
    "    dt = 10558244\n",
    "    \n",
    "    # These parameters describe background noise and data format\n",
    "    writer_kwargs = {\n",
    "                    \"tstart\": int(tmin + dt*tfrac), # 1238177971, # 1238166018,\n",
    "                    \"duration\": 1800 * min(duration, 360),\n",
    "                    \"detectors\": \"H1,L1\",        \n",
    "                    \"sqrtSX\": sqrtSX, # lambda: 10**stats.uniform(-26, -23).rvs(),          \n",
    "                    \"Tsft\": 1800,             \n",
    "                    \"SFTWindowType\": \"tukey\", \n",
    "                    \"SFTWindowBeta\": 0.01,\n",
    "                    }\n",
    "\n",
    "    # This class allows us to sample signal parameters from a specific population.\n",
    "    # Implicitly, sky positions are drawn uniformly across the celestial sphere.\n",
    "    # PyFstat also implements a convenient set of priors to sample a population\n",
    "    # of isotropically oriented neutron stars.\n",
    "    signal_parameters_generator = pyfstat.AllSkyInjectionParametersGenerator(\n",
    "        priors={\n",
    "            \"tref\": writer_kwargs[\"tstart\"],\n",
    "            \"F0\": {\"uniform\": {\"low\": 50.0, \"high\": 500.}},\n",
    "            \"Band\": 359/1800 ,\n",
    "            \"F1\": lambda: -1e-9*(1+np.random.randn()*0.01),\n",
    "            \"F2\": 0,\n",
    "            \"h0\": lambda: writer_kwargs[\"sqrtSX\"] * signal_rate,\n",
    "            **pyfstat.injection_parameters.isotropic_amplitude_priors,\n",
    "        },\n",
    "    )\n",
    "\n",
    "    snrs = np.zeros(num_signals)\n",
    "\n",
    "    for ind in range(num_signals):\n",
    "\n",
    "        # Draw signal parameters.\n",
    "        # Noise can be drawn by setting `params[\"h0\"] = 0\n",
    "        params = signal_parameters_generator.draw()\n",
    "        \n",
    "        DIRECTORY_TMP = f\"{ROOT}/generated-signals/TMP/signals_true_{signal_rate}_{ind}_{prior_index}\" \n",
    "        \n",
    "        writer_kwargs[\"outdir\"] = DIRECTORY_TMP\n",
    "        \n",
    "        writer = pyfstat.Writer(**writer_kwargs, **params)\n",
    "        writer.make_data()\n",
    "        \n",
    "        paths = writer.sftfilepath.split(\";\")\n",
    "        \n",
    "        # Data can be read as a numpy array using PyFstat\n",
    "        frequency, timestamps, amplitudes_0 = pyfstat.utils.get_sft_as_arrays(paths[0])\n",
    "        frequency, timestamps, amplitudes_1 = pyfstat.utils.get_sft_as_arrays(paths[1])\n",
    "        x = combine_amplitudes(amplitudes_0[\"H1\"], amplitudes_1[\"L1\"])\n",
    "        \n",
    "        SAVE_DIRECTORY = f\"{ROOT}/generated-signals/signals_h0_{signal_rate}\"\n",
    "        # Create SAVE_DIRECTORY if it does not exist\n",
    "        if not os.path.exists(SAVE_DIRECTORY):\n",
    "            os.makedirs(SAVE_DIRECTORY)\n",
    "        \n",
    "        np.save(f\"{SAVE_DIRECTORY}/{ind}_{prior_index}.npy\", x)\n",
    "        \n",
    "        def delete_path(path):\n",
    "            try:\n",
    "                os.remove(path)\n",
    "            except OSError:\n",
    "                pass\n",
    "        for path in paths:\n",
    "            delete_path(path)\n",
    "        \n",
    "            \n",
    "\n",
    "def generate_signals(num_signals=10, tfrac=0.9, prior_index=0,duration=4586, sqrtSX=1.E-23, signal_rate=0.1):\n",
    "\n",
    "                     # Generate signals with parameters drawn from a specific population\n",
    "\n",
    "    try: # 1238166018, 1248724262)\n",
    "        _generate_signals(num_signals, tfrac, prior_index, duration, sqrtSX, signal_rate)\n",
    "    except:\n",
    "        print(\"LOL it failed\")"
   ]
  },
  {
   "cell_type": "code",
   "execution_count": 25,
   "id": "19460616-2f04-4f05-ba46-04a965b96e9f",
   "metadata": {},
   "outputs": [],
   "source": [
    "num_signals = 1\n",
    "num_priors = 1\n",
    "\n",
    "sqrtX = np.logspace(-23, -21, num=num_priors)\n",
    "tfrac = np.linspace(0, 1, num=num_priors)\n",
    "\n",
    "# Shuffle the priors\n",
    "np.random.shuffle(sqrtX)\n",
    "np.random.shuffle(tfrac)\n"
   ]
  },
  {
   "cell_type": "code",
   "execution_count": 26,
   "id": "5073567a-04f3-4894-b0c7-1452cc69f448",
   "metadata": {},
   "outputs": [
    {
     "name": "stdout",
     "output_type": "stream",
     "text": [
      "22-11-05 10:24:15.140 pyfstat.core INFO    : Creating Writer object...\n",
      "22-11-05 10:24:15.142 pyfstat.utils.ephemeris INFO    : No /home/viktor/.pyfstat.conf file found. Will fall back to lal's automatic path resolution for files [earth00-40-DE405.dat.gz,sun00-40-DE405.dat.gz]. Alternatively, set 'earth_ephem' and 'sun_ephem' class options.\n",
      "22-11-05 10:24:15.147 pyfstat.make_sfts INFO    : Generating SFTs with fmin=185.15584178971238, Band=0.19944444444444445\n",
      "22-11-05 10:24:15.147 pyfstat.make_sfts INFO    : Checking if we can re-use injection config file...\n",
      "22-11-05 10:24:15.148 pyfstat.make_sfts INFO    : ...no config file /media/viktor/T7/gravitational-waves/generated-signals/TMP/signals_true_0.1_0_0/PyFstat.cff found.\n",
      "22-11-05 10:24:15.148 pyfstat.make_sfts INFO    : Writing config file: /media/viktor/T7/gravitational-waves/generated-signals/TMP/signals_true_0.1_0_0/PyFstat.cff\n",
      "22-11-05 10:24:15.149 pyfstat.make_sfts INFO    : Checking if we can re-use existing SFT data file(s)...\n",
      "22-11-05 10:24:15.149 pyfstat.make_sfts INFO    : ...no SFT file matching '/media/viktor/T7/gravitational-waves/generated-signals/TMP/signals_true_0.1_0_0/H-360_H1_1800SFT_PyFstat-1238166018-648000.sft' found. Will create new SFT file(s).\n",
      "22-11-05 10:24:15.149 pyfstat.utils.cli INFO    : Now executing: lalpulsar_Makefakedata_v5 --outSingleSFT=TRUE --outSFTdir=\"/media/viktor/T7/gravitational-waves/generated-signals/TMP/signals_true_0.1_0_0\" --outLabel=\"PyFstat\" --IFOs=\"H1\",\"L1\" --sqrtSX=\"1e-23\" --SFTWindowType=\"tukey\" --SFTWindowBeta=0.01 --startTime=1238166018 --duration=648000 --fmin=185.1558417897124 --Band=0.1994444444444445 --Tsft=1800 --injectionSources=\"/media/viktor/T7/gravitational-waves/generated-signals/TMP/signals_true_0.1_0_0/PyFstat.cff\" --ephemEarth=\"earth00-40-DE405.dat.gz\" --ephemSun=\"sun00-40-DE405.dat.gz\"\n",
      "22-11-05 10:24:15.877 pyfstat.make_sfts INFO    : Successfully wrote SFTs to: /media/viktor/T7/gravitational-waves/generated-signals/TMP/signals_true_0.1_0_0/H-360_H1_1800SFT_PyFstat-1238166018-648000.sft;/media/viktor/T7/gravitational-waves/generated-signals/TMP/signals_true_0.1_0_0/L-360_L1_1800SFT_PyFstat-1238166018-648000.sft\n",
      "22-11-05 10:24:15.878 pyfstat.make_sfts INFO    : Now validating each SFT file...\n",
      "22-11-05 10:24:15.903 pyfstat.utils.sft INFO    : Loading 360 SFTs from H1...\n",
      "22-11-05 10:24:16.839 pyfstat.utils.sft INFO    : Loading 360 SFTs from L1...\n"
     ]
    },
    {
     "data": {
      "text/plain": [
       "[None]"
      ]
     },
     "execution_count": 26,
     "metadata": {},
     "output_type": "execute_result"
    }
   ],
   "source": [
    "from joblib import Parallel, delayed\n",
    "\n",
    "# generate_dataset(train_files, indx, train_test_label=\"train\")\n",
    "Parallel(n_jobs=1)(delayed(_generate_signals)(num_signals=num_signals,tfrac=tf, prior_index=prior_index, duration=360, signal_rate=0.1, sqrtSX=sqrtX[prior_index])  for prior_index, tf in zip(range(num_priors), tfrac))"
   ]
  },
  {
   "cell_type": "code",
   "execution_count": null,
   "id": "26dad6f9-cb93-4b50-b3ef-816618b622ef",
   "metadata": {},
   "outputs": [],
   "source": []
  }
 ],
 "metadata": {
  "environment": {
   "kernel": "python3",
   "name": "common-cpu.m97",
   "type": "gcloud",
   "uri": "gcr.io/deeplearning-platform-release/base-cpu:m97"
  },
  "kernelspec": {
   "display_name": "Python 3.10.6 64-bit",
   "language": "python",
   "name": "python3"
  },
  "language_info": {
   "codemirror_mode": {
    "name": "ipython",
    "version": 3
   },
   "file_extension": ".py",
   "mimetype": "text/x-python",
   "name": "python",
   "nbconvert_exporter": "python",
   "pygments_lexer": "ipython3",
   "version": "3.10.6"
  },
  "vscode": {
   "interpreter": {
    "hash": "02e568930d87ca2b8b9cf5a6033d5857823a62aae5a168045c9638053701f372"
   }
  }
 },
 "nbformat": 4,
 "nbformat_minor": 5
}
