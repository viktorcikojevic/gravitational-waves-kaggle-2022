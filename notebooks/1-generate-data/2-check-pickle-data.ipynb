{
 "cells": [
  {
   "cell_type": "code",
   "execution_count": 6,
   "metadata": {},
   "outputs": [],
   "source": [
    "import numpy as np\n",
    "import pandas as pd\n",
    "import glob\n",
    "from tqdm import tqdm"
   ]
  },
  {
   "cell_type": "code",
   "execution_count": 7,
   "metadata": {},
   "outputs": [],
   "source": [
    "# root = \"/Volumes/T7/gravitational-waves\"\n",
    "root = \"/media/viktor/T7/gravitational-waves\"\n",
    "\n",
    "all_files =  glob.glob(f'{root}/generated-signals/signals_mix/*.npy') # + glob.glob(f'{root}/generated-signals/signals_noise/*.npy')\n"
   ]
  },
  {
   "cell_type": "code",
   "execution_count": 8,
   "metadata": {},
   "outputs": [
    {
     "name": "stderr",
     "output_type": "stream",
     "text": [
      "100%|██████████| 41814/41814 [04:12<00:00, 165.69it/s]\n"
     ]
    }
   ],
   "source": [
    "# For each file in all_files, try to load the numpy array with allow_pickle=True. If it fails, append the file to a list.\n",
    "failed_files = []\n",
    "for file in tqdm(all_files):\n",
    "    try:\n",
    "        np.load(file)\n",
    "    except:\n",
    "        failed_files.append(file)\n",
    "        print(file)\n",
    "\n",
    "# Make the above for loop into a function that returns "
   ]
  },
  {
   "cell_type": "code",
   "execution_count": 9,
   "metadata": {},
   "outputs": [
    {
     "data": {
      "text/plain": [
       "[]"
      ]
     },
     "execution_count": 9,
     "metadata": {},
     "output_type": "execute_result"
    }
   ],
   "source": [
    "failed_files"
   ]
  },
  {
   "cell_type": "code",
   "execution_count": 10,
   "metadata": {},
   "outputs": [],
   "source": [
    "import os\n",
    "# Delete all files in failed_files\n",
    "for file in failed_files:\n",
    "    os.remove(file)"
   ]
  }
 ],
 "metadata": {
  "kernelspec": {
   "display_name": "Python 3.10.6 64-bit",
   "language": "python",
   "name": "python3"
  },
  "language_info": {
   "codemirror_mode": {
    "name": "ipython",
    "version": 3
   },
   "file_extension": ".py",
   "mimetype": "text/x-python",
   "name": "python",
   "nbconvert_exporter": "python",
   "pygments_lexer": "ipython3",
   "version": "3.10.6"
  },
  "orig_nbformat": 4,
  "vscode": {
   "interpreter": {
    "hash": "31f2aee4e71d21fbe5cf8b01ff0e069b9275f58929596ceb00d14d90e3e16cd6"
   }
  }
 },
 "nbformat": 4,
 "nbformat_minor": 2
}
