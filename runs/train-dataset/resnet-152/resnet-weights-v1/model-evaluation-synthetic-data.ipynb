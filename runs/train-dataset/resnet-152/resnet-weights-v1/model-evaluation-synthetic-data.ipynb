{
 "cells": [
  {
   "cell_type": "code",
   "execution_count": 1,
   "metadata": {},
   "outputs": [
    {
     "name": "stderr",
     "output_type": "stream",
     "text": [
      "/home/viktor/.local/lib/python3.10/site-packages/keras/applications/resnet.py:135: UserWarning: This model usually expects 1 or 3 input channels. However, it was passed an input_shape with 2 input channels.\n",
      "  input_shape = imagenet_utils.obtain_input_shape(\n",
      "2022-12-28 01:17:18.113344: I tensorflow/stream_executor/cuda/cuda_gpu_executor.cc:975] successful NUMA node read from SysFS had negative value (-1), but there must be at least one NUMA node, so returning NUMA node zero\n",
      "2022-12-28 01:17:18.142425: I tensorflow/stream_executor/cuda/cuda_gpu_executor.cc:975] successful NUMA node read from SysFS had negative value (-1), but there must be at least one NUMA node, so returning NUMA node zero\n",
      "2022-12-28 01:17:18.142615: I tensorflow/stream_executor/cuda/cuda_gpu_executor.cc:975] successful NUMA node read from SysFS had negative value (-1), but there must be at least one NUMA node, so returning NUMA node zero\n",
      "2022-12-28 01:17:18.143018: I tensorflow/core/platform/cpu_feature_guard.cc:193] This TensorFlow binary is optimized with oneAPI Deep Neural Network Library (oneDNN) to use the following CPU instructions in performance-critical operations:  AVX2 FMA\n",
      "To enable them in other operations, rebuild TensorFlow with the appropriate compiler flags.\n",
      "2022-12-28 01:17:18.143672: I tensorflow/stream_executor/cuda/cuda_gpu_executor.cc:975] successful NUMA node read from SysFS had negative value (-1), but there must be at least one NUMA node, so returning NUMA node zero\n",
      "2022-12-28 01:17:18.143819: I tensorflow/stream_executor/cuda/cuda_gpu_executor.cc:975] successful NUMA node read from SysFS had negative value (-1), but there must be at least one NUMA node, so returning NUMA node zero\n",
      "2022-12-28 01:17:18.143943: I tensorflow/stream_executor/cuda/cuda_gpu_executor.cc:975] successful NUMA node read from SysFS had negative value (-1), but there must be at least one NUMA node, so returning NUMA node zero\n",
      "2022-12-28 01:17:18.508564: I tensorflow/stream_executor/cuda/cuda_gpu_executor.cc:975] successful NUMA node read from SysFS had negative value (-1), but there must be at least one NUMA node, so returning NUMA node zero\n",
      "2022-12-28 01:17:18.508728: I tensorflow/stream_executor/cuda/cuda_gpu_executor.cc:975] successful NUMA node read from SysFS had negative value (-1), but there must be at least one NUMA node, so returning NUMA node zero\n",
      "2022-12-28 01:17:18.508851: I tensorflow/stream_executor/cuda/cuda_gpu_executor.cc:975] successful NUMA node read from SysFS had negative value (-1), but there must be at least one NUMA node, so returning NUMA node zero\n",
      "2022-12-28 01:17:18.508960: I tensorflow/core/common_runtime/gpu/gpu_device.cc:1532] Created device /job:localhost/replica:0/task:0/device:GPU:0 with 613 MB memory:  -> device: 0, name: NVIDIA GeForce GTX 1650, pci bus id: 0000:01:00.0, compute capability: 7.5\n"
     ]
    },
    {
     "ename": "ValueError",
     "evalue": "Layer count mismatch when loading weights from file. Model expected 1 layers, found 307 saved layers.",
     "output_type": "error",
     "traceback": [
      "\u001b[0;31m---------------------------------------------------------------------------\u001b[0m",
      "\u001b[0;31mValueError\u001b[0m                                Traceback (most recent call last)",
      "Cell \u001b[0;32mIn [1], line 20\u001b[0m\n\u001b[1;32m     15\u001b[0m model \u001b[39m=\u001b[39m tf\u001b[39m.\u001b[39mkeras\u001b[39m.\u001b[39mModel(inputs, x)\n\u001b[1;32m     17\u001b[0m model \u001b[39m=\u001b[39m GAModelWrapper(accum_steps\u001b[39m=\u001b[39m\u001b[39m1\u001b[39m, inputs\u001b[39m=\u001b[39mmodel\u001b[39m.\u001b[39minput, outputs\u001b[39m=\u001b[39mmodel\u001b[39m.\u001b[39moutput)\n\u001b[0;32m---> 20\u001b[0m model\u001b[39m.\u001b[39;49mload_weights(\u001b[39m\"\u001b[39;49m\u001b[39mbest_model.h5\u001b[39;49m\u001b[39m\"\u001b[39;49m)\n",
      "File \u001b[0;32m~/.local/lib/python3.10/site-packages/keras/utils/traceback_utils.py:67\u001b[0m, in \u001b[0;36mfilter_traceback.<locals>.error_handler\u001b[0;34m(*args, **kwargs)\u001b[0m\n\u001b[1;32m     65\u001b[0m \u001b[39mexcept\u001b[39;00m \u001b[39mException\u001b[39;00m \u001b[39mas\u001b[39;00m e:  \u001b[39m# pylint: disable=broad-except\u001b[39;00m\n\u001b[1;32m     66\u001b[0m   filtered_tb \u001b[39m=\u001b[39m _process_traceback_frames(e\u001b[39m.\u001b[39m__traceback__)\n\u001b[0;32m---> 67\u001b[0m   \u001b[39mraise\u001b[39;00m e\u001b[39m.\u001b[39mwith_traceback(filtered_tb) \u001b[39mfrom\u001b[39;00m \u001b[39mNone\u001b[39m\n\u001b[1;32m     68\u001b[0m \u001b[39mfinally\u001b[39;00m:\n\u001b[1;32m     69\u001b[0m   \u001b[39mdel\u001b[39;00m filtered_tb\n",
      "File \u001b[0;32m~/.local/lib/python3.10/site-packages/keras/saving/hdf5_format.py:728\u001b[0m, in \u001b[0;36mload_weights_from_hdf5_group\u001b[0;34m(f, model)\u001b[0m\n\u001b[1;32m    726\u001b[0m layer_names \u001b[39m=\u001b[39m filtered_layer_names\n\u001b[1;32m    727\u001b[0m \u001b[39mif\u001b[39;00m \u001b[39mlen\u001b[39m(layer_names) \u001b[39m!=\u001b[39m \u001b[39mlen\u001b[39m(filtered_layers):\n\u001b[0;32m--> 728\u001b[0m   \u001b[39mraise\u001b[39;00m \u001b[39mValueError\u001b[39;00m(\n\u001b[1;32m    729\u001b[0m       \u001b[39mf\u001b[39m\u001b[39m'\u001b[39m\u001b[39mLayer count mismatch when loading weights from file. \u001b[39m\u001b[39m'\u001b[39m\n\u001b[1;32m    730\u001b[0m       \u001b[39mf\u001b[39m\u001b[39m'\u001b[39m\u001b[39mModel expected \u001b[39m\u001b[39m{\u001b[39;00m\u001b[39mlen\u001b[39m(filtered_layers)\u001b[39m}\u001b[39;00m\u001b[39m layers, found \u001b[39m\u001b[39m'\u001b[39m\n\u001b[1;32m    731\u001b[0m       \u001b[39mf\u001b[39m\u001b[39m'\u001b[39m\u001b[39m{\u001b[39;00m\u001b[39mlen\u001b[39m(layer_names)\u001b[39m}\u001b[39;00m\u001b[39m saved layers.\u001b[39m\u001b[39m'\u001b[39m)\n\u001b[1;32m    733\u001b[0m \u001b[39m# We batch weight value assignments in a single backend call\u001b[39;00m\n\u001b[1;32m    734\u001b[0m \u001b[39m# which provides a speedup in TensorFlow.\u001b[39;00m\n\u001b[1;32m    735\u001b[0m weight_value_tuples \u001b[39m=\u001b[39m []\n",
      "\u001b[0;31mValueError\u001b[0m: Layer count mismatch when loading weights from file. Model expected 1 layers, found 307 saved layers."
     ]
    }
   ],
   "source": [
    "import tensorflow as tf\n",
    "from gradient_accumulator.GAModelWrapper import GAModelWrapper\n",
    "\n",
    "\n",
    "######### MODEL #########\n",
    "\n",
    "\n",
    "base_model = tf.keras.applications.ResNet152V2(include_top=True, \n",
    "                                                   weights=None, \n",
    "                                                input_shape=(360, 256, 2), \n",
    "                                                classes=1,\n",
    "                                                classifier_activation=\"sigmoid\")\n",
    "inputs = tf.keras.Input(shape=(360, 256, 2))\n",
    "x = base_model(inputs, training=False)\n",
    "model = tf.keras.Model(inputs, x)\n",
    "\n",
    "model = GAModelWrapper(accum_steps=1, inputs=model.input, outputs=model.output)\n",
    "\n",
    "\n",
    "model.load_weights(\"best_model.h5\")\n",
    "\n"
   ]
  },
  {
   "cell_type": "code",
   "execution_count": null,
   "metadata": {},
   "outputs": [
    {
     "name": "stdout",
     "output_type": "stream",
     "text": [
      "Model: \"ga_model_wrapper_1\"\n",
      "_________________________________________________________________\n",
      " Layer (type)                Output Shape              Param #   \n",
      "=================================================================\n",
      " input_4 (InputLayer)        [(None, 360, 256, 2)]     0         \n",
      "                                                                 \n",
      " resnet152v2 (Functional)    (None, 1)                 58330561  \n",
      "                                                                 \n",
      "=================================================================\n",
      "Total params: 116,517,379\n",
      "Trainable params: 58,186,817\n",
      "Non-trainable params: 58,330,562\n",
      "_________________________________________________________________\n"
     ]
    }
   ],
   "source": [
    "model.summary()"
   ]
  },
  {
   "cell_type": "code",
   "execution_count": null,
   "metadata": {},
   "outputs": [
    {
     "data": {
      "text/plain": [
       "(array([43.,  5.,  3.,  3.,  3.,  1.,  1.,  2.,  2.,  1.]),\n",
       " array([  46.73292,  250.487  ,  454.2411 ,  657.9952 ,  861.7492 ,\n",
       "        1065.5033 , 1269.2573 , 1473.0115 , 1676.7655 , 1880.5197 ,\n",
       "        2084.2737 ], dtype=float32),\n",
       " <BarContainer object of 10 artists>)"
      ]
     },
     "execution_count": 42,
     "metadata": {},
     "output_type": "execute_result"
    },
    {
     "data": {
      "image/png": "[encoded data removed]",
      "text/plain": [
       "<Figure size 640x480 with 1 Axes>"
      ]
     },
     "metadata": {},
     "output_type": "display_data"
    }
   ],
   "source": [
    "plt.hist(model.layers[-1].layers[5].weights[3].numpy().flatten())"
   ]
  },
  {
   "cell_type": "code",
   "execution_count": null,
   "metadata": {},
   "outputs": [],
   "source": [
    "# visualizue model structure\n",
    "tf.keras.utils.plot_model(model.layers[-1], show_shapes=True, dpi=64)"
   ]
  },
  {
   "cell_type": "code",
   "execution_count": 2,
   "metadata": {},
   "outputs": [
    {
     "data": {
      "text/html": [
       "<div>\n",
       "<style scoped>\n",
       "    .dataframe tbody tr th:only-of-type {\n",
       "        vertical-align: middle;\n",
       "    }\n",
       "\n",
       "    .dataframe tbody tr th {\n",
       "        vertical-align: top;\n",
       "    }\n",
       "\n",
       "    .dataframe thead th {\n",
       "        text-align: right;\n",
       "    }\n",
       "</style>\n",
       "<table border=\"1\" class=\"dataframe\">\n",
       "  <thead>\n",
       "    <tr style=\"text-align: right;\">\n",
       "      <th></th>\n",
       "      <th>file</th>\n",
       "      <th>label</th>\n",
       "      <th>depth</th>\n",
       "    </tr>\n",
       "  </thead>\n",
       "  <tbody>\n",
       "    <tr>\n",
       "      <th>0</th>\n",
       "      <td>/media/viktor/T7/gravitational-waves-kaggle-20...</td>\n",
       "      <td>1</td>\n",
       "      <td>14.395424</td>\n",
       "    </tr>\n",
       "    <tr>\n",
       "      <th>1</th>\n",
       "      <td>/media/viktor/T7/gravitational-waves-kaggle-20...</td>\n",
       "      <td>0</td>\n",
       "      <td>16.763065</td>\n",
       "    </tr>\n",
       "    <tr>\n",
       "      <th>2</th>\n",
       "      <td>/media/viktor/T7/gravitational-waves-kaggle-20...</td>\n",
       "      <td>1</td>\n",
       "      <td>23.607238</td>\n",
       "    </tr>\n",
       "    <tr>\n",
       "      <th>3</th>\n",
       "      <td>/media/viktor/T7/gravitational-waves-kaggle-20...</td>\n",
       "      <td>0</td>\n",
       "      <td>21.931825</td>\n",
       "    </tr>\n",
       "    <tr>\n",
       "      <th>4</th>\n",
       "      <td>/media/viktor/T7/gravitational-waves-kaggle-20...</td>\n",
       "      <td>0</td>\n",
       "      <td>9.933270</td>\n",
       "    </tr>\n",
       "    <tr>\n",
       "      <th>...</th>\n",
       "      <td>...</td>\n",
       "      <td>...</td>\n",
       "      <td>...</td>\n",
       "    </tr>\n",
       "    <tr>\n",
       "      <th>163995</th>\n",
       "      <td>/media/viktor/T7/gravitational-waves-kaggle-20...</td>\n",
       "      <td>0</td>\n",
       "      <td>30.794586</td>\n",
       "    </tr>\n",
       "    <tr>\n",
       "      <th>163996</th>\n",
       "      <td>/media/viktor/T7/gravitational-waves-kaggle-20...</td>\n",
       "      <td>0</td>\n",
       "      <td>23.115460</td>\n",
       "    </tr>\n",
       "    <tr>\n",
       "      <th>163997</th>\n",
       "      <td>/media/viktor/T7/gravitational-waves-kaggle-20...</td>\n",
       "      <td>0</td>\n",
       "      <td>28.559574</td>\n",
       "    </tr>\n",
       "    <tr>\n",
       "      <th>163998</th>\n",
       "      <td>/media/viktor/T7/gravitational-waves-kaggle-20...</td>\n",
       "      <td>0</td>\n",
       "      <td>30.402129</td>\n",
       "    </tr>\n",
       "    <tr>\n",
       "      <th>163999</th>\n",
       "      <td>/media/viktor/T7/gravitational-waves-kaggle-20...</td>\n",
       "      <td>0</td>\n",
       "      <td>26.833559</td>\n",
       "    </tr>\n",
       "  </tbody>\n",
       "</table>\n",
       "<p>164000 rows × 3 columns</p>\n",
       "</div>"
      ],
      "text/plain": [
       "                                                     file  label      depth\n",
       "0       /media/viktor/T7/gravitational-waves-kaggle-20...      1  14.395424\n",
       "1       /media/viktor/T7/gravitational-waves-kaggle-20...      0  16.763065\n",
       "2       /media/viktor/T7/gravitational-waves-kaggle-20...      1  23.607238\n",
       "3       /media/viktor/T7/gravitational-waves-kaggle-20...      0  21.931825\n",
       "4       /media/viktor/T7/gravitational-waves-kaggle-20...      0   9.933270\n",
       "...                                                   ...    ...        ...\n",
       "163995  /media/viktor/T7/gravitational-waves-kaggle-20...      0  30.794586\n",
       "163996  /media/viktor/T7/gravitational-waves-kaggle-20...      0  23.115460\n",
       "163997  /media/viktor/T7/gravitational-waves-kaggle-20...      0  28.559574\n",
       "163998  /media/viktor/T7/gravitational-waves-kaggle-20...      0  30.402129\n",
       "163999  /media/viktor/T7/gravitational-waves-kaggle-20...      0  26.833559\n",
       "\n",
       "[164000 rows x 3 columns]"
      ]
     },
     "execution_count": 2,
     "metadata": {},
     "output_type": "execute_result"
    }
   ],
   "source": [
    "import pandas as pd\n",
    "df = pd.read_csv(\"/media/viktor/T7/gravitational-waves-kaggle-2022/datasets/dataset-v1/data.csv\")\n",
    "df_d = pd.read_csv(\"/media/viktor/T7/gravitational-waves-kaggle-2022/datasets/dataset-v2/data.csv\")\n",
    "df = pd.concat([df, df_d], ignore_index=True)\n",
    "df"
   ]
  },
  {
   "cell_type": "code",
   "execution_count": 20,
   "metadata": {},
   "outputs": [
    {
     "data": {
      "text/plain": [
       "32.99977483520588"
      ]
     },
     "execution_count": 20,
     "metadata": {},
     "output_type": "execute_result"
    }
   ],
   "source": [
    "df[\"depth\"].max()"
   ]
  },
  {
   "cell_type": "code",
   "execution_count": 21,
   "metadata": {},
   "outputs": [
    {
     "data": {
      "text/html": [
       "<div>\n",
       "<style scoped>\n",
       "    .dataframe tbody tr th:only-of-type {\n",
       "        vertical-align: middle;\n",
       "    }\n",
       "\n",
       "    .dataframe tbody tr th {\n",
       "        vertical-align: top;\n",
       "    }\n",
       "\n",
       "    .dataframe thead th {\n",
       "        text-align: right;\n",
       "    }\n",
       "</style>\n",
       "<table border=\"1\" class=\"dataframe\">\n",
       "  <thead>\n",
       "    <tr style=\"text-align: right;\">\n",
       "      <th></th>\n",
       "      <th>file</th>\n",
       "      <th>label</th>\n",
       "      <th>depth</th>\n",
       "    </tr>\n",
       "  </thead>\n",
       "  <tbody>\n",
       "    <tr>\n",
       "      <th>0</th>\n",
       "      <td>/media/viktor/T7/gravitational-waves-kaggle-20...</td>\n",
       "      <td>1</td>\n",
       "      <td>17.839286</td>\n",
       "    </tr>\n",
       "    <tr>\n",
       "      <th>1</th>\n",
       "      <td>/media/viktor/T7/gravitational-waves-kaggle-20...</td>\n",
       "      <td>0</td>\n",
       "      <td>29.234535</td>\n",
       "    </tr>\n",
       "    <tr>\n",
       "      <th>2</th>\n",
       "      <td>/media/viktor/T7/gravitational-waves-kaggle-20...</td>\n",
       "      <td>0</td>\n",
       "      <td>25.596651</td>\n",
       "    </tr>\n",
       "    <tr>\n",
       "      <th>3</th>\n",
       "      <td>/media/viktor/T7/gravitational-waves-kaggle-20...</td>\n",
       "      <td>1</td>\n",
       "      <td>29.933652</td>\n",
       "    </tr>\n",
       "    <tr>\n",
       "      <th>4</th>\n",
       "      <td>/media/viktor/T7/gravitational-waves-kaggle-20...</td>\n",
       "      <td>0</td>\n",
       "      <td>13.746200</td>\n",
       "    </tr>\n",
       "    <tr>\n",
       "      <th>...</th>\n",
       "      <td>...</td>\n",
       "      <td>...</td>\n",
       "      <td>...</td>\n",
       "    </tr>\n",
       "    <tr>\n",
       "      <th>120</th>\n",
       "      <td>/media/viktor/T7/gravitational-waves-kaggle-20...</td>\n",
       "      <td>0</td>\n",
       "      <td>22.295418</td>\n",
       "    </tr>\n",
       "    <tr>\n",
       "      <th>121</th>\n",
       "      <td>/media/viktor/T7/gravitational-waves-kaggle-20...</td>\n",
       "      <td>0</td>\n",
       "      <td>15.786092</td>\n",
       "    </tr>\n",
       "    <tr>\n",
       "      <th>122</th>\n",
       "      <td>/media/viktor/T7/gravitational-waves-kaggle-20...</td>\n",
       "      <td>1</td>\n",
       "      <td>23.853314</td>\n",
       "    </tr>\n",
       "    <tr>\n",
       "      <th>123</th>\n",
       "      <td>/media/viktor/T7/gravitational-waves-kaggle-20...</td>\n",
       "      <td>0</td>\n",
       "      <td>15.533073</td>\n",
       "    </tr>\n",
       "    <tr>\n",
       "      <th>124</th>\n",
       "      <td>/media/viktor/T7/gravitational-waves-kaggle-20...</td>\n",
       "      <td>0</td>\n",
       "      <td>17.695535</td>\n",
       "    </tr>\n",
       "  </tbody>\n",
       "</table>\n",
       "<p>125 rows × 3 columns</p>\n",
       "</div>"
      ],
      "text/plain": [
       "                                                  file  label      depth\n",
       "0    /media/viktor/T7/gravitational-waves-kaggle-20...      1  17.839286\n",
       "1    /media/viktor/T7/gravitational-waves-kaggle-20...      0  29.234535\n",
       "2    /media/viktor/T7/gravitational-waves-kaggle-20...      0  25.596651\n",
       "3    /media/viktor/T7/gravitational-waves-kaggle-20...      1  29.933652\n",
       "4    /media/viktor/T7/gravitational-waves-kaggle-20...      0  13.746200\n",
       "..                                                 ...    ...        ...\n",
       "120  /media/viktor/T7/gravitational-waves-kaggle-20...      0  22.295418\n",
       "121  /media/viktor/T7/gravitational-waves-kaggle-20...      0  15.786092\n",
       "122  /media/viktor/T7/gravitational-waves-kaggle-20...      1  23.853314\n",
       "123  /media/viktor/T7/gravitational-waves-kaggle-20...      0  15.533073\n",
       "124  /media/viktor/T7/gravitational-waves-kaggle-20...      0  17.695535\n",
       "\n",
       "[125 rows x 3 columns]"
      ]
     },
     "execution_count": 21,
     "metadata": {},
     "output_type": "execute_result"
    }
   ],
   "source": [
    "\n",
    "# df = df[df[\"depth\"] < 15].reset_index(drop=True)\n",
    "# take 256 samples\n",
    "df = df.sample(125).reset_index(drop=True)\n",
    "df"
   ]
  },
  {
   "cell_type": "code",
   "execution_count": 22,
   "metadata": {},
   "outputs": [
    {
     "name": "stderr",
     "output_type": "stream",
     "text": [
      "100%|██████████| 125/125 [00:08<00:00, 13.92it/s]\n"
     ]
    },
    {
     "data": {
      "text/html": [
       "<div>\n",
       "<style scoped>\n",
       "    .dataframe tbody tr th:only-of-type {\n",
       "        vertical-align: middle;\n",
       "    }\n",
       "\n",
       "    .dataframe tbody tr th {\n",
       "        vertical-align: top;\n",
       "    }\n",
       "\n",
       "    .dataframe thead th {\n",
       "        text-align: right;\n",
       "    }\n",
       "</style>\n",
       "<table border=\"1\" class=\"dataframe\">\n",
       "  <thead>\n",
       "    <tr style=\"text-align: right;\">\n",
       "      <th></th>\n",
       "      <th>file</th>\n",
       "      <th>label</th>\n",
       "      <th>depth</th>\n",
       "      <th>prediction</th>\n",
       "    </tr>\n",
       "  </thead>\n",
       "  <tbody>\n",
       "    <tr>\n",
       "      <th>0</th>\n",
       "      <td>/media/viktor/T7/gravitational-waves-kaggle-20...</td>\n",
       "      <td>1</td>\n",
       "      <td>17.839286</td>\n",
       "      <td>0.354788</td>\n",
       "    </tr>\n",
       "    <tr>\n",
       "      <th>1</th>\n",
       "      <td>/media/viktor/T7/gravitational-waves-kaggle-20...</td>\n",
       "      <td>0</td>\n",
       "      <td>29.234535</td>\n",
       "      <td>0.297713</td>\n",
       "    </tr>\n",
       "    <tr>\n",
       "      <th>2</th>\n",
       "      <td>/media/viktor/T7/gravitational-waves-kaggle-20...</td>\n",
       "      <td>0</td>\n",
       "      <td>25.596651</td>\n",
       "      <td>0.331340</td>\n",
       "    </tr>\n",
       "    <tr>\n",
       "      <th>3</th>\n",
       "      <td>/media/viktor/T7/gravitational-waves-kaggle-20...</td>\n",
       "      <td>1</td>\n",
       "      <td>29.933652</td>\n",
       "      <td>0.350771</td>\n",
       "    </tr>\n",
       "    <tr>\n",
       "      <th>4</th>\n",
       "      <td>/media/viktor/T7/gravitational-waves-kaggle-20...</td>\n",
       "      <td>0</td>\n",
       "      <td>13.746200</td>\n",
       "      <td>0.291759</td>\n",
       "    </tr>\n",
       "    <tr>\n",
       "      <th>...</th>\n",
       "      <td>...</td>\n",
       "      <td>...</td>\n",
       "      <td>...</td>\n",
       "      <td>...</td>\n",
       "    </tr>\n",
       "    <tr>\n",
       "      <th>120</th>\n",
       "      <td>/media/viktor/T7/gravitational-waves-kaggle-20...</td>\n",
       "      <td>0</td>\n",
       "      <td>22.295418</td>\n",
       "      <td>0.337452</td>\n",
       "    </tr>\n",
       "    <tr>\n",
       "      <th>121</th>\n",
       "      <td>/media/viktor/T7/gravitational-waves-kaggle-20...</td>\n",
       "      <td>0</td>\n",
       "      <td>15.786092</td>\n",
       "      <td>0.346561</td>\n",
       "    </tr>\n",
       "    <tr>\n",
       "      <th>122</th>\n",
       "      <td>/media/viktor/T7/gravitational-waves-kaggle-20...</td>\n",
       "      <td>1</td>\n",
       "      <td>23.853314</td>\n",
       "      <td>0.476726</td>\n",
       "    </tr>\n",
       "    <tr>\n",
       "      <th>123</th>\n",
       "      <td>/media/viktor/T7/gravitational-waves-kaggle-20...</td>\n",
       "      <td>0</td>\n",
       "      <td>15.533073</td>\n",
       "      <td>0.396907</td>\n",
       "    </tr>\n",
       "    <tr>\n",
       "      <th>124</th>\n",
       "      <td>/media/viktor/T7/gravitational-waves-kaggle-20...</td>\n",
       "      <td>0</td>\n",
       "      <td>17.695535</td>\n",
       "      <td>0.357439</td>\n",
       "    </tr>\n",
       "  </tbody>\n",
       "</table>\n",
       "<p>125 rows × 4 columns</p>\n",
       "</div>"
      ],
      "text/plain": [
       "                                                  file  label      depth  \\\n",
       "0    /media/viktor/T7/gravitational-waves-kaggle-20...      1  17.839286   \n",
       "1    /media/viktor/T7/gravitational-waves-kaggle-20...      0  29.234535   \n",
       "2    /media/viktor/T7/gravitational-waves-kaggle-20...      0  25.596651   \n",
       "3    /media/viktor/T7/gravitational-waves-kaggle-20...      1  29.933652   \n",
       "4    /media/viktor/T7/gravitational-waves-kaggle-20...      0  13.746200   \n",
       "..                                                 ...    ...        ...   \n",
       "120  /media/viktor/T7/gravitational-waves-kaggle-20...      0  22.295418   \n",
       "121  /media/viktor/T7/gravitational-waves-kaggle-20...      0  15.786092   \n",
       "122  /media/viktor/T7/gravitational-waves-kaggle-20...      1  23.853314   \n",
       "123  /media/viktor/T7/gravitational-waves-kaggle-20...      0  15.533073   \n",
       "124  /media/viktor/T7/gravitational-waves-kaggle-20...      0  17.695535   \n",
       "\n",
       "     prediction  \n",
       "0      0.354788  \n",
       "1      0.297713  \n",
       "2      0.331340  \n",
       "3      0.350771  \n",
       "4      0.291759  \n",
       "..          ...  \n",
       "120    0.337452  \n",
       "121    0.346561  \n",
       "122    0.476726  \n",
       "123    0.396907  \n",
       "124    0.357439  \n",
       "\n",
       "[125 rows x 4 columns]"
      ]
     },
     "execution_count": 22,
     "metadata": {},
     "output_type": "execute_result"
    }
   ],
   "source": [
    "# Loop over the dataset and make predictions: save the predictions to a list and create a column in the dataframe\n",
    "# with the predictions\n",
    "import numpy as np\n",
    "from tqdm import tqdm\n",
    "predictions = []\n",
    "for i in tqdm(range(len(df))):\n",
    "    # Get the path to the file\n",
    "    path = df.iloc[i][\"file\"]\n",
    "    # Load the data\n",
    "    data = np.load(path)\n",
    "    # Reshape the data\n",
    "    data = data.reshape(1, 360, 256, 2)\n",
    "    # Make a prediction\n",
    "    prediction = model.predict(data, verbose=0)\n",
    "    # Save the prediction\n",
    "    predictions.append(prediction[0][0])\n",
    "    \n",
    "df[\"prediction\"] = predictions\n",
    "df"
   ]
  },
  {
   "cell_type": "code",
   "execution_count": 23,
   "metadata": {},
   "outputs": [
    {
     "data": {
      "image/png": "[encoded data removed]",
      "text/plain": [
       "<Figure size 640x480 with 1 Axes>"
      ]
     },
     "metadata": {},
     "output_type": "display_data"
    }
   ],
   "source": [
    "import matplotlib.pyplot as plt\n",
    "plt.hist(df[\"prediction\"], bins=100);"
   ]
  },
  {
   "cell_type": "code",
   "execution_count": 24,
   "metadata": {},
   "outputs": [
    {
     "data": {
      "text/plain": [
       "0.799022130725682"
      ]
     },
     "execution_count": 24,
     "metadata": {},
     "output_type": "execute_result"
    }
   ],
   "source": [
    "# calculate auc\n",
    "from sklearn.metrics import roc_auc_score\n",
    "roc_auc_score(df[\"label\"], df[\"prediction\"])"
   ]
  },
  {
   "cell_type": "code",
   "execution_count": null,
   "metadata": {},
   "outputs": [],
   "source": []
  }
 ],
 "metadata": {
  "kernelspec": {
   "display_name": "Python 3.10.6 ('mlp')",
   "language": "python",
   "name": "python3"
  },
  "language_info": {
   "codemirror_mode": {
    "name": "ipython",
    "version": 3
   },
   "file_extension": ".py",
   "mimetype": "text/x-python",
   "name": "python",
   "nbconvert_exporter": "python",
   "pygments_lexer": "ipython3",
   "version": "3.10.6"
  },
  "orig_nbformat": 4,
  "vscode": {
   "interpreter": {
    "hash": "02e568930d87ca2b8b9cf5a6033d5857823a62aae5a168045c9638053701f372"
   }
  }
 },
 "nbformat": 4,
 "nbformat_minor": 2
}
