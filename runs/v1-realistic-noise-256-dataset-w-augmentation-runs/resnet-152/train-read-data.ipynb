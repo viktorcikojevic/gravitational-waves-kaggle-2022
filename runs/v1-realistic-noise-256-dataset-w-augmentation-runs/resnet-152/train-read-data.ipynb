{
 "cells": [
  {
   "cell_type": "code",
   "execution_count": 2,
   "metadata": {
    "_cell_guid": "b1076dfc-b9ad-4769-8c92-a6c4dae69d19",
    "_uuid": "8f2839f25d086af736a60e9eeb907d3b93b6e0e5",
    "tags": []
   },
   "outputs": [],
   "source": [
    "import numpy as np\n",
    "import tensorflow as tf\n",
    "import matplotlib.pyplot as plt\n",
    "import glob\n",
    "import random\n",
    "from sklearn.model_selection import train_test_split\n",
    "import json\n",
    "import os\n",
    "import datetime\n",
    "import time\n",
    "import shutil\n",
    "import pandas as pd\n",
    "\n",
    "# import wandb\n",
    "\n",
    "from tqdm import tqdm"
   ]
  },
  {
   "cell_type": "code",
   "execution_count": 3,
   "metadata": {
    "tags": []
   },
   "outputs": [],
   "source": [
    "BATCH_SIZE = 4"
   ]
  },
  {
   "cell_type": "code",
   "execution_count": 4,
   "metadata": {
    "tags": []
   },
   "outputs": [],
   "source": [
    "df = pd.read_csv(\"/media/viktor/T7/gravitational-waves-kaggle-2022/datasets/dataset-v1/data.csv\")"
   ]
  },
  {
   "cell_type": "code",
   "execution_count": 5,
   "metadata": {},
   "outputs": [
    {
     "name": "stdout",
     "output_type": "stream",
     "text": [
      "[INFO] train test split the data and labels\n"
     ]
    }
   ],
   "source": [
    "# train test split the data and labels\n",
    "print(\"[INFO] train test split the data and labels\")\n",
    "from sklearn.model_selection import train_test_split\n",
    "X_train, X_test, y_train, y_test = train_test_split(data, labels, test_size=0.2, random_state=42)\n",
    "# del data\n"
   ]
  },
  {
   "cell_type": "code",
   "execution_count": 6,
   "metadata": {},
   "outputs": [
    {
     "name": "stdout",
     "output_type": "stream",
     "text": [
      "[INFO] checking if data has any nan values\n",
      "False False\n"
     ]
    }
   ],
   "source": [
    "# Check if data has any nan values\n",
    "print(\"[INFO] checking if data has any nan values\")\n",
    "print(np.isnan(X_train).any(), np.isnan(X_test).any())"
   ]
  },
  {
   "cell_type": "code",
   "execution_count": 7,
   "metadata": {},
   "outputs": [
    {
     "name": "stdout",
     "output_type": "stream",
     "text": [
      "[INFO] Make tf. train dataset that repeats and has a batch size of BATCH_SIZE\n"
     ]
    },
    {
     "name": "stderr",
     "output_type": "stream",
     "text": [
      "2022-12-21 23:07:41.768295: I tensorflow/stream_executor/cuda/cuda_gpu_executor.cc:975] successful NUMA node read from SysFS had negative value (-1), but there must be at least one NUMA node, so returning NUMA node zero\n",
      "2022-12-21 23:07:41.827946: I tensorflow/stream_executor/cuda/cuda_gpu_executor.cc:975] successful NUMA node read from SysFS had negative value (-1), but there must be at least one NUMA node, so returning NUMA node zero\n",
      "2022-12-21 23:07:41.828250: I tensorflow/stream_executor/cuda/cuda_gpu_executor.cc:975] successful NUMA node read from SysFS had negative value (-1), but there must be at least one NUMA node, so returning NUMA node zero\n",
      "2022-12-21 23:07:41.829884: I tensorflow/core/platform/cpu_feature_guard.cc:193] This TensorFlow binary is optimized with oneAPI Deep Neural Network Library (oneDNN) to use the following CPU instructions in performance-critical operations:  AVX2 FMA\n",
      "To enable them in other operations, rebuild TensorFlow with the appropriate compiler flags.\n",
      "2022-12-21 23:07:41.831719: I tensorflow/stream_executor/cuda/cuda_gpu_executor.cc:975] successful NUMA node read from SysFS had negative value (-1), but there must be at least one NUMA node, so returning NUMA node zero\n",
      "2022-12-21 23:07:41.831884: I tensorflow/stream_executor/cuda/cuda_gpu_executor.cc:975] successful NUMA node read from SysFS had negative value (-1), but there must be at least one NUMA node, so returning NUMA node zero\n",
      "2022-12-21 23:07:41.832016: I tensorflow/stream_executor/cuda/cuda_gpu_executor.cc:975] successful NUMA node read from SysFS had negative value (-1), but there must be at least one NUMA node, so returning NUMA node zero\n",
      "2022-12-21 23:07:42.427593: I tensorflow/stream_executor/cuda/cuda_gpu_executor.cc:975] successful NUMA node read from SysFS had negative value (-1), but there must be at least one NUMA node, so returning NUMA node zero\n",
      "2022-12-21 23:07:42.427781: I tensorflow/stream_executor/cuda/cuda_gpu_executor.cc:975] successful NUMA node read from SysFS had negative value (-1), but there must be at least one NUMA node, so returning NUMA node zero\n",
      "2022-12-21 23:07:42.427911: I tensorflow/stream_executor/cuda/cuda_gpu_executor.cc:975] successful NUMA node read from SysFS had negative value (-1), but there must be at least one NUMA node, so returning NUMA node zero\n",
      "2022-12-21 23:07:42.428023: I tensorflow/core/common_runtime/gpu/gpu_device.cc:1532] Created device /job:localhost/replica:0/task:0/device:GPU:0 with 2246 MB memory:  -> device: 0, name: NVIDIA GeForce GTX 1650, pci bus id: 0000:01:00.0, compute capability: 7.5\n",
      "2022-12-21 23:07:42.431948: W tensorflow/core/framework/cpu_allocator_impl.cc:82] Allocation of 1207664640 exceeds 10% of free system memory.\n",
      "2022-12-21 23:07:43.506596: W tensorflow/core/framework/cpu_allocator_impl.cc:82] Allocation of 1207664640 exceeds 10% of free system memory.\n"
     ]
    },
    {
     "ename": "",
     "evalue": "",
     "output_type": "error",
     "traceback": [
      "\u001b[1;31mCanceled future for execute_request message before replies were done"
     ]
    },
    {
     "ename": "",
     "evalue": "",
     "output_type": "error",
     "traceback": [
      "\u001b[1;31mThe Kernel crashed while executing code in the the current cell or a previous cell. Please review the code in the cell(s) to identify a possible cause of the failure. Click <a href='https://aka.ms/vscodeJupyterKernelCrash'>here</a> for more info. View Jupyter <a href='command:jupyter.viewOutput'>log</a> for further details."
     ]
    }
   ],
   "source": [
    "\n",
    "# Make tf. dataset that repeats and has a batch size of BATCH_SIZE\n",
    "print(\"[INFO] Make tf. train dataset that repeats and has a batch size of BATCH_SIZE\")\n",
    "train_dataset = tf.data.Dataset.from_tensor_slices((X_train, y_train)).repeat().batch(BATCH_SIZE)\n",
    "del X_train, y_train\n",
    "print(\"[INFO] Make tf. test dataset that repeats and has a batch size of BATCH_SIZE\")\n",
    "test_dataset = tf.data.Dataset.from_tensor_slices((X_test, y_test)).repeat().batch(BATCH_SIZE)\n",
    "del X_test, y_test"
   ]
  },
  {
   "cell_type": "code",
   "execution_count": null,
   "metadata": {},
   "outputs": [],
   "source": [
    "try:\n",
    "    del X_train, y_train, X_test, y_test\n",
    "except:\n",
    "    print(\"[INFO] failed to delete the arrays!\")\n",
    "    pass"
   ]
  },
  {
   "cell_type": "code",
   "execution_count": null,
   "metadata": {},
   "outputs": [],
   "source": [
    "import gc\n",
    "gc.collect()"
   ]
  },
  {
   "cell_type": "code",
   "execution_count": null,
   "metadata": {},
   "outputs": [],
   "source": [
    "# load resnet model\n",
    "model = tf.keras.applications.EfficientNetB0(\n",
    "    include_top=True,\n",
    "    weights=None,\n",
    "    input_shape=(360, 256, 2),\n",
    "    pooling=None,\n",
    "    classes=1,\n",
    "    classifier_activation='sigmoid',\n",
    ")"
   ]
  },
  {
   "cell_type": "code",
   "execution_count": null,
   "metadata": {},
   "outputs": [],
   "source": [
    "model.predict(tf.ones((1, 360, 256, 2)))"
   ]
  },
  {
   "cell_type": "code",
   "execution_count": null,
   "metadata": {},
   "outputs": [],
   "source": [
    "model.compile(optimizer=tf.keras.optimizers.Adam(learning_rate=1.E-04),\n",
    "                # loss is binary crosseentropy, because we have a binary classification problem\n",
    "                loss= tf.keras.losses.BinaryCrossentropy(),\n",
    "                metrics=[tf.keras.metrics.AUC(name=\"auc\")]\n",
    "                )"
   ]
  },
  {
   "cell_type": "code",
   "execution_count": null,
   "metadata": {},
   "outputs": [],
   "source": [
    "model.evaluate(test_dataset.take(16))"
   ]
  },
  {
   "cell_type": "code",
   "execution_count": null,
   "metadata": {},
   "outputs": [],
   "source": [
    "# wandb.login()"
   ]
  },
  {
   "cell_type": "code",
   "execution_count": null,
   "metadata": {},
   "outputs": [],
   "source": [
    "\n",
    "# wandb.init(project=\"gravitational-waves\", entity=\"viktor-cikojevic\")\n",
    "\n"
   ]
  },
  {
   "cell_type": "code",
   "execution_count": null,
   "metadata": {},
   "outputs": [],
   "source": [
    "\n",
    "history = model.fit(train_dataset, \n",
    "        steps_per_epoch=32, \n",
    "        epochs=256, \n",
    "        validation_data=test_dataset, \n",
    "        validation_steps=16,\n",
    "        # don't shuffle the data\n",
    "        # shuffle=True,\n",
    "        callbacks=[\n",
    "        # WandbCallback(save_model=False), \n",
    "           tf.keras.callbacks.ModelCheckpoint(f\"best_model.h5\", save_best_only=True, monitor='val_auc', mode='max')\n",
    "            ]\n",
    "        )\n",
    "\n"
   ]
  },
  {
   "cell_type": "code",
   "execution_count": null,
   "metadata": {},
   "outputs": [],
   "source": []
  },
  {
   "cell_type": "code",
   "execution_count": null,
   "metadata": {},
   "outputs": [],
   "source": []
  }
 ],
 "metadata": {
  "kernelspec": {
   "display_name": "Python 3.10.6 ('mlp')",
   "language": "python",
   "name": "python3"
  },
  "language_info": {
   "codemirror_mode": {
    "name": "ipython",
    "version": 3
   },
   "file_extension": ".py",
   "mimetype": "text/x-python",
   "name": "python",
   "nbconvert_exporter": "python",
   "pygments_lexer": "ipython3",
   "version": "3.10.6"
  },
  "vscode": {
   "interpreter": {
    "hash": "02e568930d87ca2b8b9cf5a6033d5857823a62aae5a168045c9638053701f372"
   }
  }
 },
 "nbformat": 4,
 "nbformat_minor": 4
}
