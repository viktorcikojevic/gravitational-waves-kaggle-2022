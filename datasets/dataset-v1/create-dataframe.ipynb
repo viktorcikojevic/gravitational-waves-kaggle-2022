{
 "cells": [
  {
   "cell_type": "code",
   "execution_count": 2,
   "metadata": {},
   "outputs": [],
   "source": [
    "import os\n",
    "import pandas as pd\n",
    "import numpy as np"
   ]
  },
  {
   "cell_type": "code",
   "execution_count": 8,
   "metadata": {},
   "outputs": [],
   "source": [
    "# List files in generated-data/signals and generated-data/noise\n",
    "signals = os.listdir(\"generated-data/signals\")\n",
    "noise = os.listdir(\"generated-data/noise\")\n",
    "# Apply absolute path\n",
    "signals = [os.path.abspath(f\"generated-data/signals/{f}\") for f in signals]\n",
    "noise = [os.path.abspath(f\"generated-data/noise/{f}\") for f in noise]\n",
    "labels = [0] * len(noise) + [1] * len(signals)\n",
    "files = noise + signals\n",
    "# Create a dataframe with the files and labels\n",
    "df = pd.DataFrame({\"file\": files, \"label\": labels})\n",
    "# File is of type: '/media/viktor/T7/gravitational-waves-kaggle-2022/datasets/dataset-v1/generated-data/noise/amplitudes_50ab23095_22.353759768757524_False.npy'\n",
    "# In this case, the depth is 22.353759768757524. \n",
    "# Create a new column with the depth\n",
    "df[\"depth\"] = df[\"file\"].apply(lambda x: float(x.split(\"_\")[-2]))\n",
    "# Shuffle the dataframe\n",
    "df = df.sample(frac=1).reset_index(drop=True)\n",
    "# save the dataframe\n",
    "df.to_csv(\"data.csv\", index=False)"
   ]
  }
 ],
 "metadata": {
  "kernelspec": {
   "display_name": "Python 3.10.6 ('mlp')",
   "language": "python",
   "name": "python3"
  },
  "language_info": {
   "codemirror_mode": {
    "name": "ipython",
    "version": 3
   },
   "file_extension": ".py",
   "mimetype": "text/x-python",
   "name": "python",
   "nbconvert_exporter": "python",
   "pygments_lexer": "ipython3",
   "version": "3.10.6"
  },
  "orig_nbformat": 4,
  "vscode": {
   "interpreter": {
    "hash": "02e568930d87ca2b8b9cf5a6033d5857823a62aae5a168045c9638053701f372"
   }
  }
 },
 "nbformat": 4,
 "nbformat_minor": 2
}
