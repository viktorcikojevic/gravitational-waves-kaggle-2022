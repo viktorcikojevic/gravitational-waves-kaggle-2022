{
 "cells": [
  {
   "cell_type": "code",
   "execution_count": 1,
   "metadata": {},
   "outputs": [],
   "source": [
    "import os\n",
    "import numpy as np\n",
    "import pandas as pd"
   ]
  },
  {
   "cell_type": "code",
   "execution_count": 14,
   "metadata": {},
   "outputs": [
    {
     "data": {
      "text/html": [
       "<div>\n",
       "<style scoped>\n",
       "    .dataframe tbody tr th:only-of-type {\n",
       "        vertical-align: middle;\n",
       "    }\n",
       "\n",
       "    .dataframe tbody tr th {\n",
       "        vertical-align: top;\n",
       "    }\n",
       "\n",
       "    .dataframe thead th {\n",
       "        text-align: right;\n",
       "    }\n",
       "</style>\n",
       "<table border=\"1\" class=\"dataframe\">\n",
       "  <thead>\n",
       "    <tr style=\"text-align: right;\">\n",
       "      <th></th>\n",
       "      <th>folder</th>\n",
       "    </tr>\n",
       "  </thead>\n",
       "  <tbody>\n",
       "    <tr>\n",
       "      <th>0</th>\n",
       "      <td>/Users/viktorcikojevic/Documents/gravitational...</td>\n",
       "    </tr>\n",
       "    <tr>\n",
       "      <th>1</th>\n",
       "      <td>/Users/viktorcikojevic/Documents/gravitational...</td>\n",
       "    </tr>\n",
       "    <tr>\n",
       "      <th>2</th>\n",
       "      <td>/Users/viktorcikojevic/Documents/gravitational...</td>\n",
       "    </tr>\n",
       "    <tr>\n",
       "      <th>3</th>\n",
       "      <td>/Users/viktorcikojevic/Documents/gravitational...</td>\n",
       "    </tr>\n",
       "    <tr>\n",
       "      <th>4</th>\n",
       "      <td>/Users/viktorcikojevic/Documents/gravitational...</td>\n",
       "    </tr>\n",
       "    <tr>\n",
       "      <th>...</th>\n",
       "      <td>...</td>\n",
       "    </tr>\n",
       "    <tr>\n",
       "      <th>1493</th>\n",
       "      <td>/Users/viktorcikojevic/Documents/gravitational...</td>\n",
       "    </tr>\n",
       "    <tr>\n",
       "      <th>1494</th>\n",
       "      <td>/Users/viktorcikojevic/Documents/gravitational...</td>\n",
       "    </tr>\n",
       "    <tr>\n",
       "      <th>1495</th>\n",
       "      <td>/Users/viktorcikojevic/Documents/gravitational...</td>\n",
       "    </tr>\n",
       "    <tr>\n",
       "      <th>1496</th>\n",
       "      <td>/Users/viktorcikojevic/Documents/gravitational...</td>\n",
       "    </tr>\n",
       "    <tr>\n",
       "      <th>1497</th>\n",
       "      <td>/Users/viktorcikojevic/Documents/gravitational...</td>\n",
       "    </tr>\n",
       "  </tbody>\n",
       "</table>\n",
       "<p>1498 rows × 1 columns</p>\n",
       "</div>"
      ],
      "text/plain": [
       "                                                 folder\n",
       "0     /Users/viktorcikojevic/Documents/gravitational...\n",
       "1     /Users/viktorcikojevic/Documents/gravitational...\n",
       "2     /Users/viktorcikojevic/Documents/gravitational...\n",
       "3     /Users/viktorcikojevic/Documents/gravitational...\n",
       "4     /Users/viktorcikojevic/Documents/gravitational...\n",
       "...                                                 ...\n",
       "1493  /Users/viktorcikojevic/Documents/gravitational...\n",
       "1494  /Users/viktorcikojevic/Documents/gravitational...\n",
       "1495  /Users/viktorcikojevic/Documents/gravitational...\n",
       "1496  /Users/viktorcikojevic/Documents/gravitational...\n",
       "1497  /Users/viktorcikojevic/Documents/gravitational...\n",
       "\n",
       "[1498 rows x 1 columns]"
      ]
     },
     "execution_count": 14,
     "metadata": {},
     "output_type": "execute_result"
    }
   ],
   "source": [
    "root = \"/Users/viktorcikojevic/Documents/gravitational-waves-kaggle-2022/datasets/realistic_noise_256/realistic_noise/images\"\n",
    "# list all folders in root, and in each folder, there is H1.png and L1.png file. Get all the paths to these files. Ignore files in root folder.\n",
    "paths = [os.path.join(root, folder) for folder in os.listdir(root)]\n",
    "df = pd.DataFrame(paths, columns=[\"folder\"])\n",
    "df"
   ]
  },
  {
   "cell_type": "code",
   "execution_count": 15,
   "metadata": {},
   "outputs": [
    {
     "name": "stdout",
     "output_type": "stream",
     "text": [
      "/Users/viktorcikojevic/Documents/gravitational-waves-kaggle-2022/datasets/realistic_noise_256/realistic_noise/images/7b450229a\n"
     ]
    }
   ],
   "source": [
    "print(df.iloc[0][\"folder\"])"
   ]
  },
  {
   "cell_type": "code",
   "execution_count": 16,
   "metadata": {},
   "outputs": [],
   "source": [
    "# save the dataframe to a csv file\n",
    "df.to_csv(\"realistic_noise_256.csv\", index=False)"
   ]
  },
  {
   "cell_type": "code",
   "execution_count": 22,
   "metadata": {},
   "outputs": [
    {
     "data": {
      "text/plain": [
       "array([[108, 132,  98, ..., 137, 111, 100],\n",
       "       [187, 126, 161, ...,  87, 124, 105],\n",
       "       [129, 102, 117, ..., 115, 134, 102],\n",
       "       ...,\n",
       "       [102, 101, 102, ..., 106, 113, 183],\n",
       "       [ 97, 110, 125, ..., 118, 110, 114],\n",
       "       [146, 108, 122, ..., 122, 141, 124]], dtype=uint8)"
      ]
     },
     "execution_count": 22,
     "metadata": {},
     "output_type": "execute_result"
    }
   ],
   "source": [
    "# open image df[\"folder\"][0]/H1.png\n",
    "from PIL import Image\n",
    "import matplotlib.pyplot as plt\n",
    "\n",
    "img = Image.open(df[\"folder\"][0] + \"/H1.png\")\n",
    "# convert to numpy array\n",
    "img = np.array(img)\n",
    "img"
   ]
  }
 ],
 "metadata": {
  "kernelspec": {
   "display_name": "mlp",
   "language": "python",
   "name": "python3"
  },
  "language_info": {
   "codemirror_mode": {
    "name": "ipython",
    "version": 3
   },
   "file_extension": ".py",
   "mimetype": "text/x-python",
   "name": "python",
   "nbconvert_exporter": "python",
   "pygments_lexer": "ipython3",
   "version": "3.8.13"
  },
  "orig_nbformat": 4,
  "vscode": {
   "interpreter": {
    "hash": "5fc8cc4423f23a87e418a855553ca5df0686e4c1b4502d1b16c3e8233d998187"
   }
  }
 },
 "nbformat": 4,
 "nbformat_minor": 2
}
