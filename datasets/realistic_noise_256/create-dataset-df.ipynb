{
 "cells": [
  {
   "cell_type": "code",
   "execution_count": 1,
   "metadata": {},
   "outputs": [],
   "source": [
    "import os\n",
    "import numpy as np\n",
    "import pandas as pd"
   ]
  },
  {
   "cell_type": "code",
   "execution_count": 5,
   "metadata": {},
   "outputs": [
    {
     "data": {
      "text/html": [
       "<div>\n",
       "<style scoped>\n",
       "    .dataframe tbody tr th:only-of-type {\n",
       "        vertical-align: middle;\n",
       "    }\n",
       "\n",
       "    .dataframe tbody tr th {\n",
       "        vertical-align: top;\n",
       "    }\n",
       "\n",
       "    .dataframe thead th {\n",
       "        text-align: right;\n",
       "    }\n",
       "</style>\n",
       "<table border=\"1\" class=\"dataframe\">\n",
       "  <thead>\n",
       "    <tr style=\"text-align: right;\">\n",
       "      <th></th>\n",
       "      <th>path</th>\n",
       "      <th>detector</th>\n",
       "    </tr>\n",
       "  </thead>\n",
       "  <tbody>\n",
       "    <tr>\n",
       "      <th>0</th>\n",
       "      <td>/Users/viktorcikojevic/Documents/gravitational...</td>\n",
       "      <td>L1</td>\n",
       "    </tr>\n",
       "    <tr>\n",
       "      <th>1</th>\n",
       "      <td>/Users/viktorcikojevic/Documents/gravitational...</td>\n",
       "      <td>H1</td>\n",
       "    </tr>\n",
       "    <tr>\n",
       "      <th>2</th>\n",
       "      <td>/Users/viktorcikojevic/Documents/gravitational...</td>\n",
       "      <td>L1</td>\n",
       "    </tr>\n",
       "    <tr>\n",
       "      <th>3</th>\n",
       "      <td>/Users/viktorcikojevic/Documents/gravitational...</td>\n",
       "      <td>H1</td>\n",
       "    </tr>\n",
       "    <tr>\n",
       "      <th>4</th>\n",
       "      <td>/Users/viktorcikojevic/Documents/gravitational...</td>\n",
       "      <td>L1</td>\n",
       "    </tr>\n",
       "    <tr>\n",
       "      <th>...</th>\n",
       "      <td>...</td>\n",
       "      <td>...</td>\n",
       "    </tr>\n",
       "    <tr>\n",
       "      <th>2988</th>\n",
       "      <td>/Users/viktorcikojevic/Documents/gravitational...</td>\n",
       "      <td>H1</td>\n",
       "    </tr>\n",
       "    <tr>\n",
       "      <th>2989</th>\n",
       "      <td>/Users/viktorcikojevic/Documents/gravitational...</td>\n",
       "      <td>L1</td>\n",
       "    </tr>\n",
       "    <tr>\n",
       "      <th>2990</th>\n",
       "      <td>/Users/viktorcikojevic/Documents/gravitational...</td>\n",
       "      <td>H1</td>\n",
       "    </tr>\n",
       "    <tr>\n",
       "      <th>2991</th>\n",
       "      <td>/Users/viktorcikojevic/Documents/gravitational...</td>\n",
       "      <td>L1</td>\n",
       "    </tr>\n",
       "    <tr>\n",
       "      <th>2992</th>\n",
       "      <td>/Users/viktorcikojevic/Documents/gravitational...</td>\n",
       "      <td>H1</td>\n",
       "    </tr>\n",
       "  </tbody>\n",
       "</table>\n",
       "<p>2993 rows × 2 columns</p>\n",
       "</div>"
      ],
      "text/plain": [
       "                                                   path detector\n",
       "0     /Users/viktorcikojevic/Documents/gravitational...       L1\n",
       "1     /Users/viktorcikojevic/Documents/gravitational...       H1\n",
       "2     /Users/viktorcikojevic/Documents/gravitational...       L1\n",
       "3     /Users/viktorcikojevic/Documents/gravitational...       H1\n",
       "4     /Users/viktorcikojevic/Documents/gravitational...       L1\n",
       "...                                                 ...      ...\n",
       "2988  /Users/viktorcikojevic/Documents/gravitational...       H1\n",
       "2989  /Users/viktorcikojevic/Documents/gravitational...       L1\n",
       "2990  /Users/viktorcikojevic/Documents/gravitational...       H1\n",
       "2991  /Users/viktorcikojevic/Documents/gravitational...       L1\n",
       "2992  /Users/viktorcikojevic/Documents/gravitational...       H1\n",
       "\n",
       "[2993 rows x 2 columns]"
      ]
     },
     "execution_count": 5,
     "metadata": {},
     "output_type": "execute_result"
    }
   ],
   "source": [
    "root = \"/Users/viktorcikojevic/Documents/gravitational-waves-kaggle-2022/datasets/realistic_noise_256/realistic_noise/images\"\n",
    "# list all folders in root, and in each folder, there is H1.png and L1.png file. Get all the paths to these files. Ignore files in root folder.\n",
    "paths = [os.path.join(root, folder, file) for folder in os.listdir(root) if os.path.isdir(os.path.join(root, folder)) for file in os.listdir(os.path.join(root, folder)) if file.endswith(\".png\")]\n",
    "# create a dataframe with columns \"path\" and \"detector\". Detector is either H1 or L1.\n",
    "df = pd.DataFrame({\"path\": paths, \"detector\": [path.split(\"/\")[-1].split(\".\")[0] for path in paths]})\n",
    "df"
   ]
  },
  {
   "cell_type": "code",
   "execution_count": 6,
   "metadata": {},
   "outputs": [],
   "source": [
    "# save the dataframe to a csv file\n",
    "df.to_csv(\"realistic_noise_256.csv\", index=False)"
   ]
  }
 ],
 "metadata": {
  "kernelspec": {
   "display_name": "mlp",
   "language": "python",
   "name": "python3"
  },
  "language_info": {
   "codemirror_mode": {
    "name": "ipython",
    "version": 3
   },
   "file_extension": ".py",
   "mimetype": "text/x-python",
   "name": "python",
   "nbconvert_exporter": "python",
   "pygments_lexer": "ipython3",
   "version": "3.8.13"
  },
  "orig_nbformat": 4,
  "vscode": {
   "interpreter": {
    "hash": "5fc8cc4423f23a87e418a855553ca5df0686e4c1b4502d1b16c3e8233d998187"
   }
  }
 },
 "nbformat": 4,
 "nbformat_minor": 2
}
