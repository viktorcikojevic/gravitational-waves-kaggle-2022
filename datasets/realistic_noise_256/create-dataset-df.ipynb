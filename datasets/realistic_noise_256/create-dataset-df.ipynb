{
 "cells": [
  {
   "cell_type": "code",
   "execution_count": 1,
   "metadata": {},
   "outputs": [],
   "source": [
    "import os\n",
    "import numpy as np\n",
    "import pandas as pd"
   ]
  },
  {
   "cell_type": "code",
   "execution_count": 11,
   "metadata": {},
   "outputs": [
    {
     "data": {
      "text/html": [
       "<div>\n",
       "<style scoped>\n",
       "    .dataframe tbody tr th:only-of-type {\n",
       "        vertical-align: middle;\n",
       "    }\n",
       "\n",
       "    .dataframe tbody tr th {\n",
       "        vertical-align: top;\n",
       "    }\n",
       "\n",
       "    .dataframe thead th {\n",
       "        text-align: right;\n",
       "    }\n",
       "</style>\n",
       "<table border=\"1\" class=\"dataframe\">\n",
       "  <thead>\n",
       "    <tr style=\"text-align: right;\">\n",
       "      <th></th>\n",
       "      <th>folder</th>\n",
       "      <th>H1</th>\n",
       "      <th>L1</th>\n",
       "    </tr>\n",
       "  </thead>\n",
       "  <tbody>\n",
       "    <tr>\n",
       "      <th>0</th>\n",
       "      <td>/media/viktor/T7/gravitational-waves-kaggle-20...</td>\n",
       "      <td>/media/viktor/T7/gravitational-waves-kaggle-20...</td>\n",
       "      <td>/media/viktor/T7/gravitational-waves-kaggle-20...</td>\n",
       "    </tr>\n",
       "    <tr>\n",
       "      <th>1</th>\n",
       "      <td>/media/viktor/T7/gravitational-waves-kaggle-20...</td>\n",
       "      <td>/media/viktor/T7/gravitational-waves-kaggle-20...</td>\n",
       "      <td>/media/viktor/T7/gravitational-waves-kaggle-20...</td>\n",
       "    </tr>\n",
       "    <tr>\n",
       "      <th>2</th>\n",
       "      <td>/media/viktor/T7/gravitational-waves-kaggle-20...</td>\n",
       "      <td>/media/viktor/T7/gravitational-waves-kaggle-20...</td>\n",
       "      <td>/media/viktor/T7/gravitational-waves-kaggle-20...</td>\n",
       "    </tr>\n",
       "    <tr>\n",
       "      <th>3</th>\n",
       "      <td>/media/viktor/T7/gravitational-waves-kaggle-20...</td>\n",
       "      <td>/media/viktor/T7/gravitational-waves-kaggle-20...</td>\n",
       "      <td>/media/viktor/T7/gravitational-waves-kaggle-20...</td>\n",
       "    </tr>\n",
       "    <tr>\n",
       "      <th>4</th>\n",
       "      <td>/media/viktor/T7/gravitational-waves-kaggle-20...</td>\n",
       "      <td>/media/viktor/T7/gravitational-waves-kaggle-20...</td>\n",
       "      <td>/media/viktor/T7/gravitational-waves-kaggle-20...</td>\n",
       "    </tr>\n",
       "    <tr>\n",
       "      <th>...</th>\n",
       "      <td>...</td>\n",
       "      <td>...</td>\n",
       "      <td>...</td>\n",
       "    </tr>\n",
       "    <tr>\n",
       "      <th>1492</th>\n",
       "      <td>/media/viktor/T7/gravitational-waves-kaggle-20...</td>\n",
       "      <td>/media/viktor/T7/gravitational-waves-kaggle-20...</td>\n",
       "      <td>/media/viktor/T7/gravitational-waves-kaggle-20...</td>\n",
       "    </tr>\n",
       "    <tr>\n",
       "      <th>1493</th>\n",
       "      <td>/media/viktor/T7/gravitational-waves-kaggle-20...</td>\n",
       "      <td>/media/viktor/T7/gravitational-waves-kaggle-20...</td>\n",
       "      <td>/media/viktor/T7/gravitational-waves-kaggle-20...</td>\n",
       "    </tr>\n",
       "    <tr>\n",
       "      <th>1494</th>\n",
       "      <td>/media/viktor/T7/gravitational-waves-kaggle-20...</td>\n",
       "      <td>/media/viktor/T7/gravitational-waves-kaggle-20...</td>\n",
       "      <td>/media/viktor/T7/gravitational-waves-kaggle-20...</td>\n",
       "    </tr>\n",
       "    <tr>\n",
       "      <th>1495</th>\n",
       "      <td>/media/viktor/T7/gravitational-waves-kaggle-20...</td>\n",
       "      <td>/media/viktor/T7/gravitational-waves-kaggle-20...</td>\n",
       "      <td>/media/viktor/T7/gravitational-waves-kaggle-20...</td>\n",
       "    </tr>\n",
       "    <tr>\n",
       "      <th>1496</th>\n",
       "      <td>/media/viktor/T7/gravitational-waves-kaggle-20...</td>\n",
       "      <td>/media/viktor/T7/gravitational-waves-kaggle-20...</td>\n",
       "      <td>/media/viktor/T7/gravitational-waves-kaggle-20...</td>\n",
       "    </tr>\n",
       "  </tbody>\n",
       "</table>\n",
       "<p>1497 rows × 3 columns</p>\n",
       "</div>"
      ],
      "text/plain": [
       "                                                 folder  \\\n",
       "0     /media/viktor/T7/gravitational-waves-kaggle-20...   \n",
       "1     /media/viktor/T7/gravitational-waves-kaggle-20...   \n",
       "2     /media/viktor/T7/gravitational-waves-kaggle-20...   \n",
       "3     /media/viktor/T7/gravitational-waves-kaggle-20...   \n",
       "4     /media/viktor/T7/gravitational-waves-kaggle-20...   \n",
       "...                                                 ...   \n",
       "1492  /media/viktor/T7/gravitational-waves-kaggle-20...   \n",
       "1493  /media/viktor/T7/gravitational-waves-kaggle-20...   \n",
       "1494  /media/viktor/T7/gravitational-waves-kaggle-20...   \n",
       "1495  /media/viktor/T7/gravitational-waves-kaggle-20...   \n",
       "1496  /media/viktor/T7/gravitational-waves-kaggle-20...   \n",
       "\n",
       "                                                     H1  \\\n",
       "0     /media/viktor/T7/gravitational-waves-kaggle-20...   \n",
       "1     /media/viktor/T7/gravitational-waves-kaggle-20...   \n",
       "2     /media/viktor/T7/gravitational-waves-kaggle-20...   \n",
       "3     /media/viktor/T7/gravitational-waves-kaggle-20...   \n",
       "4     /media/viktor/T7/gravitational-waves-kaggle-20...   \n",
       "...                                                 ...   \n",
       "1492  /media/viktor/T7/gravitational-waves-kaggle-20...   \n",
       "1493  /media/viktor/T7/gravitational-waves-kaggle-20...   \n",
       "1494  /media/viktor/T7/gravitational-waves-kaggle-20...   \n",
       "1495  /media/viktor/T7/gravitational-waves-kaggle-20...   \n",
       "1496  /media/viktor/T7/gravitational-waves-kaggle-20...   \n",
       "\n",
       "                                                     L1  \n",
       "0     /media/viktor/T7/gravitational-waves-kaggle-20...  \n",
       "1     /media/viktor/T7/gravitational-waves-kaggle-20...  \n",
       "2     /media/viktor/T7/gravitational-waves-kaggle-20...  \n",
       "3     /media/viktor/T7/gravitational-waves-kaggle-20...  \n",
       "4     /media/viktor/T7/gravitational-waves-kaggle-20...  \n",
       "...                                                 ...  \n",
       "1492  /media/viktor/T7/gravitational-waves-kaggle-20...  \n",
       "1493  /media/viktor/T7/gravitational-waves-kaggle-20...  \n",
       "1494  /media/viktor/T7/gravitational-waves-kaggle-20...  \n",
       "1495  /media/viktor/T7/gravitational-waves-kaggle-20...  \n",
       "1496  /media/viktor/T7/gravitational-waves-kaggle-20...  \n",
       "\n",
       "[1497 rows x 3 columns]"
      ]
     },
     "execution_count": 11,
     "metadata": {},
     "output_type": "execute_result"
    }
   ],
   "source": [
    "root = \"/Users/viktorcikojevic/Documents/gravitational-waves-kaggle-2022/datasets/realistic_noise_256/realistic_noise/images\"\n",
    "root = \"/media/viktor/T7/gravitational-waves-kaggle-2022/datasets/realistic_noise_256/realistic_noise/images\"\n",
    "# list all folders in root, and in each folder, there is H1.png and L1.png file. Get all the folders to these files. Ignore files in root folder.\n",
    "folders = [os.path.join(root, folder) for folder in os.listdir(root)]\n",
    "df = pd.DataFrame(folders, columns=[\"folder\"])\n",
    "# list all files in each folder. If there is H1.png or L1.png, then add them to the dataframe.\n",
    "df[\"H1\"] = df[\"folder\"].apply(lambda x: os.path.join(x, \"H1.png\") if os.path.exists(os.path.join(x, \"H1.png\")) else None)\n",
    "df[\"L1\"] = df[\"folder\"].apply(lambda x: os.path.join(x, \"L1.png\") if os.path.exists(os.path.join(x, \"L1.png\")) else None)\n",
    "# take H1 files where H1 is not None, and L1 files where L1 is not None\n",
    "df_h1 = df[df[\"H1\"].notnull()]\n",
    "df_l1 = df[df[\"L1\"].notnull()]\n",
    "df_h1"
   ]
  },
  {
   "cell_type": "code",
   "execution_count": 12,
   "metadata": {},
   "outputs": [
    {
     "name": "stdout",
     "output_type": "stream",
     "text": [
      "/media/viktor/T7/gravitational-waves-kaggle-2022/datasets/realistic_noise_256/realistic_noise/images/004f1b282\n"
     ]
    }
   ],
   "source": [
    "print(df.iloc[0][\"folder\"])"
   ]
  },
  {
   "cell_type": "code",
   "execution_count": 14,
   "metadata": {},
   "outputs": [],
   "source": [
    "# save the dataframe to a csv file\n",
    "df_h1.to_csv(\"realistic_noise_256_h1.csv\", index=False)\n",
    "df_l1.to_csv(\"realistic_noise_256_l1.csv\", index=False)"
   ]
  },
  {
   "cell_type": "code",
   "execution_count": 22,
   "metadata": {},
   "outputs": [
    {
     "data": {
      "text/plain": [
       "array([[108, 132,  98, ..., 137, 111, 100],\n",
       "       [187, 126, 161, ...,  87, 124, 105],\n",
       "       [129, 102, 117, ..., 115, 134, 102],\n",
       "       ...,\n",
       "       [102, 101, 102, ..., 106, 113, 183],\n",
       "       [ 97, 110, 125, ..., 118, 110, 114],\n",
       "       [146, 108, 122, ..., 122, 141, 124]], dtype=uint8)"
      ]
     },
     "execution_count": 22,
     "metadata": {},
     "output_type": "execute_result"
    }
   ],
   "source": [
    "# open image df[\"folder\"][0]/H1.png\n",
    "from PIL import Image\n",
    "import matplotlib.pyplot as plt\n",
    "\n",
    "img = Image.open(df[\"folder\"][0] + \"/H1.png\")\n",
    "# convert to numpy array\n",
    "img = np.array(img)\n",
    "img"
   ]
  }
 ],
 "metadata": {
  "kernelspec": {
   "display_name": "Python 3.10.6 ('mlp')",
   "language": "python",
   "name": "python3"
  },
  "language_info": {
   "codemirror_mode": {
    "name": "ipython",
    "version": 3
   },
   "file_extension": ".py",
   "mimetype": "text/x-python",
   "name": "python",
   "nbconvert_exporter": "python",
   "pygments_lexer": "ipython3",
   "version": "3.10.6"
  },
  "orig_nbformat": 4,
  "vscode": {
   "interpreter": {
    "hash": "02e568930d87ca2b8b9cf5a6033d5857823a62aae5a168045c9638053701f372"
   }
  }
 },
 "nbformat": 4,
 "nbformat_minor": 2
}
